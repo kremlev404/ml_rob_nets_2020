{
  "nbformat": 4,
  "nbformat_minor": 0,
  "metadata": {
    "colab": {
      "name": " lab1KremlevWithPlot",
      "provenance": [],
      "collapsed_sections": [],
      "toc_visible": true
    },
    "kernelspec": {
      "name": "python3",
      "display_name": "Python 3"
    },
    "accelerator": "GPU"
  },
  "cells": [
    {
      "cell_type": "markdown",
      "metadata": {
        "id": "UjfquuN3HkHt"
      },
      "source": [
        "### Лабораторная работа № 1. \n",
        "### Выполнил: Кремлев Антон Алексеевич\n",
        "### Учебная группа: 18-АС\n",
        "### 5 Вариант\n",
        "### Набор данных: 5 ( how-much-did-it-rain-ii )\n",
        "\n"
      ]
    },
    {
      "cell_type": "code",
      "metadata": {
        "id": "DpGtd-_J5uKX",
        "outputId": "af97d08a-169c-4dc2-8900-906c0deaf03f",
        "colab": {
          "base_uri": "https://localhost:8080/",
          "height": 35
        }
      },
      "source": [
        "%matplotlib inline\n",
        "import matplotlib.pyplot as plt\n",
        "import pandas as pd\n",
        "import numpy as np\n",
        "from google.colab import drive\n",
        "drive.mount('/content/drive')\n"
      ],
      "execution_count": 1,
      "outputs": [
        {
          "output_type": "stream",
          "text": [
            "Mounted at /content/drive\n"
          ],
          "name": "stdout"
        }
      ]
    },
    {
      "cell_type": "code",
      "metadata": {
        "id": "6YPbhJvc5uni",
        "outputId": "34747fc0-b17e-430f-e6c2-d119b0a33020",
        "colab": {
          "base_uri": "https://localhost:8080/",
          "height": 427
        }
      },
      "source": [
        "dataf = pd.read_csv(\"/content/drive/My Drive/data/train.csv\")\n",
        "dataf"
      ],
      "execution_count": 2,
      "outputs": [
        {
          "output_type": "execute_result",
          "data": {
            "text/html": [
              "<div>\n",
              "<style scoped>\n",
              "    .dataframe tbody tr th:only-of-type {\n",
              "        vertical-align: middle;\n",
              "    }\n",
              "\n",
              "    .dataframe tbody tr th {\n",
              "        vertical-align: top;\n",
              "    }\n",
              "\n",
              "    .dataframe thead th {\n",
              "        text-align: right;\n",
              "    }\n",
              "</style>\n",
              "<table border=\"1\" class=\"dataframe\">\n",
              "  <thead>\n",
              "    <tr style=\"text-align: right;\">\n",
              "      <th></th>\n",
              "      <th>Id</th>\n",
              "      <th>minutes_past</th>\n",
              "      <th>radardist_km</th>\n",
              "      <th>Ref</th>\n",
              "      <th>Ref_5x5_10th</th>\n",
              "      <th>Ref_5x5_50th</th>\n",
              "      <th>Ref_5x5_90th</th>\n",
              "      <th>RefComposite</th>\n",
              "      <th>RefComposite_5x5_10th</th>\n",
              "      <th>RefComposite_5x5_50th</th>\n",
              "      <th>RefComposite_5x5_90th</th>\n",
              "      <th>RhoHV</th>\n",
              "      <th>RhoHV_5x5_10th</th>\n",
              "      <th>RhoHV_5x5_50th</th>\n",
              "      <th>RhoHV_5x5_90th</th>\n",
              "      <th>Zdr</th>\n",
              "      <th>Zdr_5x5_10th</th>\n",
              "      <th>Zdr_5x5_50th</th>\n",
              "      <th>Zdr_5x5_90th</th>\n",
              "      <th>Kdp</th>\n",
              "      <th>Kdp_5x5_10th</th>\n",
              "      <th>Kdp_5x5_50th</th>\n",
              "      <th>Kdp_5x5_90th</th>\n",
              "      <th>Expected</th>\n",
              "    </tr>\n",
              "  </thead>\n",
              "  <tbody>\n",
              "    <tr>\n",
              "      <th>0</th>\n",
              "      <td>1</td>\n",
              "      <td>3</td>\n",
              "      <td>10.0</td>\n",
              "      <td>NaN</td>\n",
              "      <td>NaN</td>\n",
              "      <td>NaN</td>\n",
              "      <td>NaN</td>\n",
              "      <td>NaN</td>\n",
              "      <td>NaN</td>\n",
              "      <td>NaN</td>\n",
              "      <td>NaN</td>\n",
              "      <td>NaN</td>\n",
              "      <td>NaN</td>\n",
              "      <td>NaN</td>\n",
              "      <td>NaN</td>\n",
              "      <td>NaN</td>\n",
              "      <td>NaN</td>\n",
              "      <td>NaN</td>\n",
              "      <td>NaN</td>\n",
              "      <td>NaN</td>\n",
              "      <td>NaN</td>\n",
              "      <td>NaN</td>\n",
              "      <td>NaN</td>\n",
              "      <td>0.254000</td>\n",
              "    </tr>\n",
              "    <tr>\n",
              "      <th>1</th>\n",
              "      <td>1</td>\n",
              "      <td>16</td>\n",
              "      <td>10.0</td>\n",
              "      <td>NaN</td>\n",
              "      <td>NaN</td>\n",
              "      <td>NaN</td>\n",
              "      <td>NaN</td>\n",
              "      <td>NaN</td>\n",
              "      <td>NaN</td>\n",
              "      <td>NaN</td>\n",
              "      <td>NaN</td>\n",
              "      <td>NaN</td>\n",
              "      <td>NaN</td>\n",
              "      <td>NaN</td>\n",
              "      <td>NaN</td>\n",
              "      <td>NaN</td>\n",
              "      <td>NaN</td>\n",
              "      <td>NaN</td>\n",
              "      <td>NaN</td>\n",
              "      <td>NaN</td>\n",
              "      <td>NaN</td>\n",
              "      <td>NaN</td>\n",
              "      <td>NaN</td>\n",
              "      <td>0.254000</td>\n",
              "    </tr>\n",
              "    <tr>\n",
              "      <th>2</th>\n",
              "      <td>1</td>\n",
              "      <td>25</td>\n",
              "      <td>10.0</td>\n",
              "      <td>NaN</td>\n",
              "      <td>NaN</td>\n",
              "      <td>NaN</td>\n",
              "      <td>NaN</td>\n",
              "      <td>NaN</td>\n",
              "      <td>NaN</td>\n",
              "      <td>NaN</td>\n",
              "      <td>NaN</td>\n",
              "      <td>NaN</td>\n",
              "      <td>NaN</td>\n",
              "      <td>NaN</td>\n",
              "      <td>NaN</td>\n",
              "      <td>NaN</td>\n",
              "      <td>NaN</td>\n",
              "      <td>NaN</td>\n",
              "      <td>NaN</td>\n",
              "      <td>NaN</td>\n",
              "      <td>NaN</td>\n",
              "      <td>NaN</td>\n",
              "      <td>NaN</td>\n",
              "      <td>0.254000</td>\n",
              "    </tr>\n",
              "    <tr>\n",
              "      <th>3</th>\n",
              "      <td>1</td>\n",
              "      <td>35</td>\n",
              "      <td>10.0</td>\n",
              "      <td>NaN</td>\n",
              "      <td>NaN</td>\n",
              "      <td>NaN</td>\n",
              "      <td>NaN</td>\n",
              "      <td>NaN</td>\n",
              "      <td>NaN</td>\n",
              "      <td>NaN</td>\n",
              "      <td>NaN</td>\n",
              "      <td>NaN</td>\n",
              "      <td>NaN</td>\n",
              "      <td>NaN</td>\n",
              "      <td>NaN</td>\n",
              "      <td>NaN</td>\n",
              "      <td>NaN</td>\n",
              "      <td>NaN</td>\n",
              "      <td>NaN</td>\n",
              "      <td>NaN</td>\n",
              "      <td>NaN</td>\n",
              "      <td>NaN</td>\n",
              "      <td>NaN</td>\n",
              "      <td>0.254000</td>\n",
              "    </tr>\n",
              "    <tr>\n",
              "      <th>4</th>\n",
              "      <td>1</td>\n",
              "      <td>45</td>\n",
              "      <td>10.0</td>\n",
              "      <td>NaN</td>\n",
              "      <td>NaN</td>\n",
              "      <td>NaN</td>\n",
              "      <td>NaN</td>\n",
              "      <td>NaN</td>\n",
              "      <td>NaN</td>\n",
              "      <td>NaN</td>\n",
              "      <td>NaN</td>\n",
              "      <td>NaN</td>\n",
              "      <td>NaN</td>\n",
              "      <td>NaN</td>\n",
              "      <td>NaN</td>\n",
              "      <td>NaN</td>\n",
              "      <td>NaN</td>\n",
              "      <td>NaN</td>\n",
              "      <td>NaN</td>\n",
              "      <td>NaN</td>\n",
              "      <td>NaN</td>\n",
              "      <td>NaN</td>\n",
              "      <td>NaN</td>\n",
              "      <td>0.254000</td>\n",
              "    </tr>\n",
              "    <tr>\n",
              "      <th>...</th>\n",
              "      <td>...</td>\n",
              "      <td>...</td>\n",
              "      <td>...</td>\n",
              "      <td>...</td>\n",
              "      <td>...</td>\n",
              "      <td>...</td>\n",
              "      <td>...</td>\n",
              "      <td>...</td>\n",
              "      <td>...</td>\n",
              "      <td>...</td>\n",
              "      <td>...</td>\n",
              "      <td>...</td>\n",
              "      <td>...</td>\n",
              "      <td>...</td>\n",
              "      <td>...</td>\n",
              "      <td>...</td>\n",
              "      <td>...</td>\n",
              "      <td>...</td>\n",
              "      <td>...</td>\n",
              "      <td>...</td>\n",
              "      <td>...</td>\n",
              "      <td>...</td>\n",
              "      <td>...</td>\n",
              "      <td>...</td>\n",
              "    </tr>\n",
              "    <tr>\n",
              "      <th>13765196</th>\n",
              "      <td>1180945</td>\n",
              "      <td>38</td>\n",
              "      <td>9.0</td>\n",
              "      <td>33.0</td>\n",
              "      <td>19.5</td>\n",
              "      <td>25.5</td>\n",
              "      <td>36.5</td>\n",
              "      <td>33.0</td>\n",
              "      <td>20.5</td>\n",
              "      <td>28.0</td>\n",
              "      <td>36.5</td>\n",
              "      <td>NaN</td>\n",
              "      <td>NaN</td>\n",
              "      <td>NaN</td>\n",
              "      <td>NaN</td>\n",
              "      <td>NaN</td>\n",
              "      <td>NaN</td>\n",
              "      <td>NaN</td>\n",
              "      <td>NaN</td>\n",
              "      <td>NaN</td>\n",
              "      <td>NaN</td>\n",
              "      <td>NaN</td>\n",
              "      <td>NaN</td>\n",
              "      <td>8.636004</td>\n",
              "    </tr>\n",
              "    <tr>\n",
              "      <th>13765197</th>\n",
              "      <td>1180945</td>\n",
              "      <td>42</td>\n",
              "      <td>9.0</td>\n",
              "      <td>33.0</td>\n",
              "      <td>21.0</td>\n",
              "      <td>30.5</td>\n",
              "      <td>37.0</td>\n",
              "      <td>36.5</td>\n",
              "      <td>22.0</td>\n",
              "      <td>33.5</td>\n",
              "      <td>37.0</td>\n",
              "      <td>NaN</td>\n",
              "      <td>NaN</td>\n",
              "      <td>NaN</td>\n",
              "      <td>NaN</td>\n",
              "      <td>NaN</td>\n",
              "      <td>NaN</td>\n",
              "      <td>NaN</td>\n",
              "      <td>NaN</td>\n",
              "      <td>NaN</td>\n",
              "      <td>NaN</td>\n",
              "      <td>NaN</td>\n",
              "      <td>NaN</td>\n",
              "      <td>8.636004</td>\n",
              "    </tr>\n",
              "    <tr>\n",
              "      <th>13765198</th>\n",
              "      <td>1180945</td>\n",
              "      <td>47</td>\n",
              "      <td>9.0</td>\n",
              "      <td>29.5</td>\n",
              "      <td>10.0</td>\n",
              "      <td>26.0</td>\n",
              "      <td>30.5</td>\n",
              "      <td>31.0</td>\n",
              "      <td>16.5</td>\n",
              "      <td>26.0</td>\n",
              "      <td>33.0</td>\n",
              "      <td>1.041667</td>\n",
              "      <td>NaN</td>\n",
              "      <td>1.025000</td>\n",
              "      <td>1.051667</td>\n",
              "      <td>1.75</td>\n",
              "      <td>NaN</td>\n",
              "      <td>0.750</td>\n",
              "      <td>3.0000</td>\n",
              "      <td>13.379990</td>\n",
              "      <td>NaN</td>\n",
              "      <td>NaN</td>\n",
              "      <td>13.379990</td>\n",
              "      <td>8.636004</td>\n",
              "    </tr>\n",
              "    <tr>\n",
              "      <th>13765199</th>\n",
              "      <td>1180945</td>\n",
              "      <td>52</td>\n",
              "      <td>9.0</td>\n",
              "      <td>19.0</td>\n",
              "      <td>NaN</td>\n",
              "      <td>15.5</td>\n",
              "      <td>26.5</td>\n",
              "      <td>19.0</td>\n",
              "      <td>NaN</td>\n",
              "      <td>16.5</td>\n",
              "      <td>26.5</td>\n",
              "      <td>NaN</td>\n",
              "      <td>NaN</td>\n",
              "      <td>NaN</td>\n",
              "      <td>1.051667</td>\n",
              "      <td>NaN</td>\n",
              "      <td>NaN</td>\n",
              "      <td>NaN</td>\n",
              "      <td>2.8125</td>\n",
              "      <td>NaN</td>\n",
              "      <td>NaN</td>\n",
              "      <td>NaN</td>\n",
              "      <td>NaN</td>\n",
              "      <td>8.636004</td>\n",
              "    </tr>\n",
              "    <tr>\n",
              "      <th>13765200</th>\n",
              "      <td>1180945</td>\n",
              "      <td>57</td>\n",
              "      <td>9.0</td>\n",
              "      <td>7.5</td>\n",
              "      <td>NaN</td>\n",
              "      <td>10.0</td>\n",
              "      <td>13.0</td>\n",
              "      <td>14.5</td>\n",
              "      <td>10.0</td>\n",
              "      <td>12.5</td>\n",
              "      <td>16.0</td>\n",
              "      <td>1.051667</td>\n",
              "      <td>0.845</td>\n",
              "      <td>1.021667</td>\n",
              "      <td>1.051667</td>\n",
              "      <td>0.00</td>\n",
              "      <td>-1.125</td>\n",
              "      <td>0.375</td>\n",
              "      <td>3.2500</td>\n",
              "      <td>6.069992</td>\n",
              "      <td>NaN</td>\n",
              "      <td>-8.029999</td>\n",
              "      <td>6.069992</td>\n",
              "      <td>8.636004</td>\n",
              "    </tr>\n",
              "  </tbody>\n",
              "</table>\n",
              "<p>13765201 rows × 24 columns</p>\n",
              "</div>"
            ],
            "text/plain": [
              "               Id  minutes_past  ...  Kdp_5x5_90th  Expected\n",
              "0               1             3  ...           NaN  0.254000\n",
              "1               1            16  ...           NaN  0.254000\n",
              "2               1            25  ...           NaN  0.254000\n",
              "3               1            35  ...           NaN  0.254000\n",
              "4               1            45  ...           NaN  0.254000\n",
              "...           ...           ...  ...           ...       ...\n",
              "13765196  1180945            38  ...           NaN  8.636004\n",
              "13765197  1180945            42  ...           NaN  8.636004\n",
              "13765198  1180945            47  ...     13.379990  8.636004\n",
              "13765199  1180945            52  ...           NaN  8.636004\n",
              "13765200  1180945            57  ...      6.069992  8.636004\n",
              "\n",
              "[13765201 rows x 24 columns]"
            ]
          },
          "metadata": {
            "tags": []
          },
          "execution_count": 2
        }
      ]
    },
    {
      "cell_type": "code",
      "metadata": {
        "id": "KlLygjjBbhPD",
        "outputId": "2506b8f2-b525-43b1-ec7d-c483a4a86cff",
        "colab": {
          "base_uri": "https://localhost:8080/",
          "height": 35
        }
      },
      "source": [
        "#Remove ids with NaNs in Ref column for each observation \n",
        "true_ids = set(dataf.loc[dataf['Ref'].notna(), 'Id'])\n",
        "dataf = dataf[dataf['Id'].isin(true_ids)]\n",
        "dataf.shape"
      ],
      "execution_count": 3,
      "outputs": [
        {
          "output_type": "execute_result",
          "data": {
            "text/plain": [
              "(9125329, 24)"
            ]
          },
          "metadata": {
            "tags": []
          },
          "execution_count": 3
        }
      ]
    },
    {
      "cell_type": "code",
      "metadata": {
        "id": "drZ1wjfUbhgf",
        "outputId": "9ecea7ef-f081-435d-cfe0-137306d7be8c",
        "colab": {
          "base_uri": "https://localhost:8080/",
          "height": 108
        }
      },
      "source": [
        "#fillna\n",
        "dataf.fillna(0.0, inplace=True)\n",
        "dataf.reset_index(drop=True, inplace=True)\n"
      ],
      "execution_count": 4,
      "outputs": [
        {
          "output_type": "stream",
          "text": [
            "/usr/local/lib/python3.6/dist-packages/pandas/core/frame.py:4322: SettingWithCopyWarning: \n",
            "A value is trying to be set on a copy of a slice from a DataFrame\n",
            "\n",
            "See the caveats in the documentation: https://pandas.pydata.org/pandas-docs/stable/user_guide/indexing.html#returning-a-view-versus-a-copy\n",
            "  downcast=downcast,\n"
          ],
          "name": "stderr"
        }
      ]
    },
    {
      "cell_type": "code",
      "metadata": {
        "id": "qU1ltgbCbh80",
        "outputId": "af792a08-a90c-4f88-e03e-b0bf4a5353af",
        "colab": {
          "base_uri": "https://localhost:8080/",
          "height": 35
        }
      },
      "source": [
        "#wipe outliers expected data\n",
        "THRESHOLD = 70\n",
        "'''\n",
        "dataf = dataf[dataf['Expected'] < THRESHOLD]\n",
        "dataf.shape\n",
        "'''\n",
        "df_temp = pd.DataFrame(dataf.groupby('Id')['Expected'].mean()) # mean, or any value (the same for all)\n",
        "\n",
        "\n",
        "dataf = dataf[np.in1d(dataf.Id, np.array(df_temp[df_temp['Expected'] < THRESHOLD].index))]\n",
        "del df_temp\n",
        "dataf.shape"
      ],
      "execution_count": 5,
      "outputs": [
        {
          "output_type": "execute_result",
          "data": {
            "text/plain": [
              "(8914175, 24)"
            ]
          },
          "metadata": {
            "tags": []
          },
          "execution_count": 5
        }
      ]
    },
    {
      "cell_type": "code",
      "metadata": {
        "id": "6vfk6dzPbiJ1",
        "outputId": "6531188e-0196-4f00-86ff-cd43ea7fd8cf",
        "colab": {
          "base_uri": "https://localhost:8080/",
          "height": 218
        }
      },
      "source": [
        "dataf.head()"
      ],
      "execution_count": 6,
      "outputs": [
        {
          "output_type": "execute_result",
          "data": {
            "text/html": [
              "<div>\n",
              "<style scoped>\n",
              "    .dataframe tbody tr th:only-of-type {\n",
              "        vertical-align: middle;\n",
              "    }\n",
              "\n",
              "    .dataframe tbody tr th {\n",
              "        vertical-align: top;\n",
              "    }\n",
              "\n",
              "    .dataframe thead th {\n",
              "        text-align: right;\n",
              "    }\n",
              "</style>\n",
              "<table border=\"1\" class=\"dataframe\">\n",
              "  <thead>\n",
              "    <tr style=\"text-align: right;\">\n",
              "      <th></th>\n",
              "      <th>Id</th>\n",
              "      <th>minutes_past</th>\n",
              "      <th>radardist_km</th>\n",
              "      <th>Ref</th>\n",
              "      <th>Ref_5x5_10th</th>\n",
              "      <th>Ref_5x5_50th</th>\n",
              "      <th>Ref_5x5_90th</th>\n",
              "      <th>RefComposite</th>\n",
              "      <th>RefComposite_5x5_10th</th>\n",
              "      <th>RefComposite_5x5_50th</th>\n",
              "      <th>RefComposite_5x5_90th</th>\n",
              "      <th>RhoHV</th>\n",
              "      <th>RhoHV_5x5_10th</th>\n",
              "      <th>RhoHV_5x5_50th</th>\n",
              "      <th>RhoHV_5x5_90th</th>\n",
              "      <th>Zdr</th>\n",
              "      <th>Zdr_5x5_10th</th>\n",
              "      <th>Zdr_5x5_50th</th>\n",
              "      <th>Zdr_5x5_90th</th>\n",
              "      <th>Kdp</th>\n",
              "      <th>Kdp_5x5_10th</th>\n",
              "      <th>Kdp_5x5_50th</th>\n",
              "      <th>Kdp_5x5_90th</th>\n",
              "      <th>Expected</th>\n",
              "    </tr>\n",
              "  </thead>\n",
              "  <tbody>\n",
              "    <tr>\n",
              "      <th>0</th>\n",
              "      <td>2</td>\n",
              "      <td>1</td>\n",
              "      <td>2.0</td>\n",
              "      <td>9.0</td>\n",
              "      <td>5.0</td>\n",
              "      <td>7.5</td>\n",
              "      <td>10.5</td>\n",
              "      <td>15.0</td>\n",
              "      <td>10.5</td>\n",
              "      <td>16.5</td>\n",
              "      <td>23.5</td>\n",
              "      <td>0.998333</td>\n",
              "      <td>0.998333</td>\n",
              "      <td>0.998333</td>\n",
              "      <td>0.998333</td>\n",
              "      <td>0.3750</td>\n",
              "      <td>-0.1250</td>\n",
              "      <td>0.3125</td>\n",
              "      <td>0.8750</td>\n",
              "      <td>1.059998</td>\n",
              "      <td>-1.410004</td>\n",
              "      <td>-0.350006</td>\n",
              "      <td>1.059998</td>\n",
              "      <td>1.016</td>\n",
              "    </tr>\n",
              "    <tr>\n",
              "      <th>1</th>\n",
              "      <td>2</td>\n",
              "      <td>6</td>\n",
              "      <td>2.0</td>\n",
              "      <td>26.5</td>\n",
              "      <td>22.5</td>\n",
              "      <td>25.5</td>\n",
              "      <td>31.5</td>\n",
              "      <td>26.5</td>\n",
              "      <td>26.5</td>\n",
              "      <td>28.5</td>\n",
              "      <td>32.0</td>\n",
              "      <td>1.001667</td>\n",
              "      <td>0.981667</td>\n",
              "      <td>0.998333</td>\n",
              "      <td>1.005000</td>\n",
              "      <td>0.0625</td>\n",
              "      <td>-0.1875</td>\n",
              "      <td>0.2500</td>\n",
              "      <td>0.6875</td>\n",
              "      <td>0.000000</td>\n",
              "      <td>0.000000</td>\n",
              "      <td>0.000000</td>\n",
              "      <td>1.409988</td>\n",
              "      <td>1.016</td>\n",
              "    </tr>\n",
              "    <tr>\n",
              "      <th>2</th>\n",
              "      <td>2</td>\n",
              "      <td>11</td>\n",
              "      <td>2.0</td>\n",
              "      <td>21.5</td>\n",
              "      <td>15.5</td>\n",
              "      <td>20.5</td>\n",
              "      <td>25.0</td>\n",
              "      <td>26.5</td>\n",
              "      <td>23.5</td>\n",
              "      <td>25.0</td>\n",
              "      <td>27.0</td>\n",
              "      <td>1.001667</td>\n",
              "      <td>0.995000</td>\n",
              "      <td>0.998333</td>\n",
              "      <td>1.001667</td>\n",
              "      <td>0.3125</td>\n",
              "      <td>-0.0625</td>\n",
              "      <td>0.3125</td>\n",
              "      <td>0.6250</td>\n",
              "      <td>0.349991</td>\n",
              "      <td>0.000000</td>\n",
              "      <td>-0.350006</td>\n",
              "      <td>1.759994</td>\n",
              "      <td>1.016</td>\n",
              "    </tr>\n",
              "    <tr>\n",
              "      <th>3</th>\n",
              "      <td>2</td>\n",
              "      <td>16</td>\n",
              "      <td>2.0</td>\n",
              "      <td>18.0</td>\n",
              "      <td>14.0</td>\n",
              "      <td>17.5</td>\n",
              "      <td>21.0</td>\n",
              "      <td>20.5</td>\n",
              "      <td>18.0</td>\n",
              "      <td>20.5</td>\n",
              "      <td>23.0</td>\n",
              "      <td>0.995000</td>\n",
              "      <td>0.995000</td>\n",
              "      <td>0.998333</td>\n",
              "      <td>1.001667</td>\n",
              "      <td>0.2500</td>\n",
              "      <td>0.1250</td>\n",
              "      <td>0.3750</td>\n",
              "      <td>0.6875</td>\n",
              "      <td>0.349991</td>\n",
              "      <td>-1.059998</td>\n",
              "      <td>0.000000</td>\n",
              "      <td>1.059998</td>\n",
              "      <td>1.016</td>\n",
              "    </tr>\n",
              "    <tr>\n",
              "      <th>4</th>\n",
              "      <td>2</td>\n",
              "      <td>21</td>\n",
              "      <td>2.0</td>\n",
              "      <td>24.5</td>\n",
              "      <td>16.5</td>\n",
              "      <td>21.0</td>\n",
              "      <td>24.5</td>\n",
              "      <td>24.5</td>\n",
              "      <td>21.0</td>\n",
              "      <td>24.0</td>\n",
              "      <td>28.0</td>\n",
              "      <td>0.998333</td>\n",
              "      <td>0.995000</td>\n",
              "      <td>0.998333</td>\n",
              "      <td>0.998333</td>\n",
              "      <td>0.2500</td>\n",
              "      <td>0.0625</td>\n",
              "      <td>0.1875</td>\n",
              "      <td>0.5625</td>\n",
              "      <td>-0.350006</td>\n",
              "      <td>-1.059998</td>\n",
              "      <td>-0.350006</td>\n",
              "      <td>1.759994</td>\n",
              "      <td>1.016</td>\n",
              "    </tr>\n",
              "  </tbody>\n",
              "</table>\n",
              "</div>"
            ],
            "text/plain": [
              "   Id  minutes_past  radardist_km  ...  Kdp_5x5_50th  Kdp_5x5_90th  Expected\n",
              "0   2             1           2.0  ...     -0.350006      1.059998     1.016\n",
              "1   2             6           2.0  ...      0.000000      1.409988     1.016\n",
              "2   2            11           2.0  ...     -0.350006      1.759994     1.016\n",
              "3   2            16           2.0  ...      0.000000      1.059998     1.016\n",
              "4   2            21           2.0  ...     -0.350006      1.759994     1.016\n",
              "\n",
              "[5 rows x 24 columns]"
            ]
          },
          "metadata": {
            "tags": []
          },
          "execution_count": 6
        }
      ]
    },
    {
      "cell_type": "code",
      "metadata": {
        "id": "MRfrmSsx5u3J"
      },
      "source": [
        "#cels after cleaning NULL & NaN fields\n",
        "#dataf = dataf.dropna()\n",
        "#dataf.shape"
      ],
      "execution_count": null,
      "outputs": []
    },
    {
      "cell_type": "code",
      "metadata": {
        "id": "sr6jQ7qlS4Bv",
        "outputId": "b8026599-cc24-4b22-d28c-e0e55ed20f74",
        "colab": {
          "base_uri": "https://localhost:8080/",
          "height": 398
        }
      },
      "source": [
        "import seaborn as sns\n",
        "from sklearn.preprocessing import StandardScaler\n",
        "scaler = StandardScaler()\n",
        "\n",
        "sns.heatmap(dataf.corr())"
      ],
      "execution_count": 7,
      "outputs": [
        {
          "output_type": "execute_result",
          "data": {
            "text/plain": [
              "<matplotlib.axes._subplots.AxesSubplot at 0x7f7f8623b898>"
            ]
          },
          "metadata": {
            "tags": []
          },
          "execution_count": 7
        },
        {
          "output_type": "display_data",
          "data": {
            "image/png": "[encoded data removed]",
            "text/plain": [
              "<Figure size 432x288 with 2 Axes>"
            ]
          },
          "metadata": {
            "tags": [],
            "needs_background": "light"
          }
        }
      ]
    },
    {
      "cell_type": "code",
      "metadata": {
        "id": "PcpfhkVUuCm_"
      },
      "source": [
        "\n",
        "dataf = dataf.drop(dataf.columns[[4,5,6,7,8,9,10]] ,axis = 1 )\n",
        "x = dataf.drop(columns=\"Expected\", axis=1)"
      ],
      "execution_count": 8,
      "outputs": []
    },
    {
      "cell_type": "code",
      "metadata": {
        "id": "e7xXOYjBd9Mh",
        "outputId": "6cc36476-44ef-4cf0-af1a-f7a13c9479ae",
        "colab": {
          "base_uri": "https://localhost:8080/",
          "height": 362
        }
      },
      "source": [
        "\n",
        "#wiped data \n",
        "x\n",
        "sns.heatmap(x.corr())\n"
      ],
      "execution_count": 9,
      "outputs": [
        {
          "output_type": "execute_result",
          "data": {
            "text/plain": [
              "<matplotlib.axes._subplots.AxesSubplot at 0x7f7f8346ca58>"
            ]
          },
          "metadata": {
            "tags": []
          },
          "execution_count": 9
        },
        {
          "output_type": "display_data",
          "data": {
            "image/png": "[encoded data removed]",
            "text/plain": [
              "<Figure size 432x288 with 2 Axes>"
            ]
          },
          "metadata": {
            "tags": [],
            "needs_background": "light"
          }
        }
      ]
    },
    {
      "cell_type": "code",
      "metadata": {
        "id": "IDz1BZ7n69DX",
        "outputId": "e4d55b15-208f-4cf4-8e30-20002f6b0f0f",
        "colab": {
          "base_uri": "https://localhost:8080/",
          "height": 350
        }
      },
      "source": [
        "#\n",
        "numerical = [c for c in x.columns if x[c].dtype.name != 'object']\n",
        "plt.figure(figsize=(20,5))\n",
        "sns.boxplot(data=x[numerical])\n"
      ],
      "execution_count": 10,
      "outputs": [
        {
          "output_type": "execute_result",
          "data": {
            "text/plain": [
              "<matplotlib.axes._subplots.AxesSubplot at 0x7f7f83469c50>"
            ]
          },
          "metadata": {
            "tags": []
          },
          "execution_count": 10
        },
        {
          "output_type": "display_data",
          "data": {
            "image/png": "[encoded data removed]",
            "text/plain": [
              "<Figure size 1440x360 with 1 Axes>"
            ]
          },
          "metadata": {
            "tags": [],
            "needs_background": "light"
          }
        }
      ]
    },
    {
      "cell_type": "code",
      "metadata": {
        "id": "gURYY1PU69Rf"
      },
      "source": [
        "'''\n",
        "mean = x.mean(axis=0)\n",
        "std = x.std(axis=0)\n",
        "x -= mean\n",
        "x /= std\n",
        "x\n",
        "\n",
        "\n",
        "from sklearn import preprocessing\n",
        "scaler = preprocessing.MinMaxScaler()\n",
        "x[numerical] = scaler.fit_transform(x[numerical].values.astype(float))\n",
        "sns.boxplot(data=x[numerical])\n",
        "'''\n"
      ],
      "execution_count": null,
      "outputs": []
    },
    {
      "cell_type": "code",
      "metadata": {
        "id": "NZC414D87AnD"
      },
      "source": [
        "###########TEST DATA LOAD\n",
        "##we don't have Y_test data in test.csv, let's use train in 70/30 "
      ],
      "execution_count": null,
      "outputs": []
    },
    {
      "cell_type": "code",
      "metadata": {
        "id": "3qifh1Fl7D8a"
      },
      "source": [
        "y = dataf[\"Expected\"]\n"
      ],
      "execution_count": null,
      "outputs": []
    },
    {
      "cell_type": "code",
      "metadata": {
        "id": "dmTWTYoI7EY_",
        "outputId": "ac52ea7d-ddbf-44e2-a5f4-713e567cd153",
        "colab": {
          "base_uri": "https://localhost:8080/",
          "height": 52
        }
      },
      "source": [
        "'''\n",
        "split = .7\n",
        "\n",
        "x_train = x.sample(frac=split)\n",
        "x_test = x.drop(x_train.index)\n",
        "x_train.reset_index(drop=True)\n",
        "\n",
        "y_train = y.sample(frac=split)\n",
        "y_test = y.drop(y_train.index)\n",
        "y_train.reset_index(drop=True)\n",
        "\n",
        "x_train\n",
        "'''"
      ],
      "execution_count": null,
      "outputs": [
        {
          "output_type": "execute_result",
          "data": {
            "application/vnd.google.colaboratory.intrinsic+json": {
              "type": "string"
            },
            "text/plain": [
              "'\\nsplit = .7\\n\\nx_train = x.sample(frac=split)\\nx_test = x.drop(x_train.index)\\nx_train.reset_index(drop=True)\\n\\ny_train = y.sample(frac=split)\\ny_test = y.drop(y_train.index)\\ny_train.reset_index(drop=True)\\n\\nx_train\\n'"
            ]
          },
          "metadata": {
            "tags": []
          },
          "execution_count": 11
        }
      ]
    },
    {
      "cell_type": "code",
      "metadata": {
        "id": "_i3vjpmIvdIw",
        "outputId": "099d420a-fad2-46a9-e835-10aa44e3c92c",
        "colab": {
          "base_uri": "https://localhost:8080/",
          "height": 35
        }
      },
      "source": [
        "!git clone https://github.com/keras-team/keras-tuner.git"
      ],
      "execution_count": null,
      "outputs": [
        {
          "output_type": "stream",
          "text": [
            "fatal: destination path 'keras-tuner' already exists and is not an empty directory.\n"
          ],
          "name": "stdout"
        }
      ]
    },
    {
      "cell_type": "code",
      "metadata": {
        "id": "I1-hlytpvot6",
        "outputId": "7746d6ac-778d-4037-f2f0-4c776038e438",
        "colab": {
          "base_uri": "https://localhost:8080/",
          "height": 545
        }
      },
      "source": [
        "%cd keras-tuner/\n",
        "!pip install ."
      ],
      "execution_count": null,
      "outputs": [
        {
          "output_type": "stream",
          "text": [
            "/content/keras-tuner\n",
            "Processing /content/keras-tuner\n",
            "Requirement already satisfied: packaging in /usr/local/lib/python3.6/dist-packages (from keras-tuner==1.0.2rc1.dev0) (20.4)\n",
            "Requirement already satisfied: future in /usr/local/lib/python3.6/dist-packages (from keras-tuner==1.0.2rc1.dev0) (0.16.0)\n",
            "Requirement already satisfied: numpy<1.19.0 in /usr/local/lib/python3.6/dist-packages (from keras-tuner==1.0.2rc1.dev0) (1.18.5)\n",
            "Requirement already satisfied: tabulate in /usr/local/lib/python3.6/dist-packages (from keras-tuner==1.0.2rc1.dev0) (0.8.7)\n",
            "Requirement already satisfied: terminaltables in /usr/local/lib/python3.6/dist-packages (from keras-tuner==1.0.2rc1.dev0) (3.1.0)\n",
            "Requirement already satisfied: colorama in /usr/local/lib/python3.6/dist-packages (from keras-tuner==1.0.2rc1.dev0) (0.4.3)\n",
            "Requirement already satisfied: tqdm in /usr/local/lib/python3.6/dist-packages (from keras-tuner==1.0.2rc1.dev0) (4.41.1)\n",
            "Requirement already satisfied: requests in /usr/local/lib/python3.6/dist-packages (from keras-tuner==1.0.2rc1.dev0) (2.23.0)\n",
            "Requirement already satisfied: scipy in /usr/local/lib/python3.6/dist-packages (from keras-tuner==1.0.2rc1.dev0) (1.4.1)\n",
            "Requirement already satisfied: scikit-learn in /usr/local/lib/python3.6/dist-packages (from keras-tuner==1.0.2rc1.dev0) (0.22.2.post1)\n",
            "Requirement already satisfied: pyparsing>=2.0.2 in /usr/local/lib/python3.6/dist-packages (from packaging->keras-tuner==1.0.2rc1.dev0) (2.4.7)\n",
            "Requirement already satisfied: six in /usr/local/lib/python3.6/dist-packages (from packaging->keras-tuner==1.0.2rc1.dev0) (1.15.0)\n",
            "Requirement already satisfied: chardet<4,>=3.0.2 in /usr/local/lib/python3.6/dist-packages (from requests->keras-tuner==1.0.2rc1.dev0) (3.0.4)\n",
            "Requirement already satisfied: idna<3,>=2.5 in /usr/local/lib/python3.6/dist-packages (from requests->keras-tuner==1.0.2rc1.dev0) (2.10)\n",
            "Requirement already satisfied: certifi>=2017.4.17 in /usr/local/lib/python3.6/dist-packages (from requests->keras-tuner==1.0.2rc1.dev0) (2020.6.20)\n",
            "Requirement already satisfied: urllib3!=1.25.0,!=1.25.1,<1.26,>=1.21.1 in /usr/local/lib/python3.6/dist-packages (from requests->keras-tuner==1.0.2rc1.dev0) (1.24.3)\n",
            "Requirement already satisfied: joblib>=0.11 in /usr/local/lib/python3.6/dist-packages (from scikit-learn->keras-tuner==1.0.2rc1.dev0) (0.16.0)\n",
            "Building wheels for collected packages: keras-tuner\n",
            "  Building wheel for keras-tuner (setup.py) ... \u001b[?25l\u001b[?25hdone\n",
            "  Created wheel for keras-tuner: filename=keras_tuner-1.0.2rc1.dev0-cp36-none-any.whl size=91706 sha256=6f103240078aaf091d9f89b8b67184676d7d120b4105989d1b967f31817ae363\n",
            "  Stored in directory: /root/.cache/pip/wheels/fa/4e/d0/ed331a3363786e8a74848aa0589674f502cbb3f0321cdba844\n",
            "Successfully built keras-tuner\n",
            "Installing collected packages: keras-tuner\n",
            "  Found existing installation: keras-tuner 1.0.2rc1.dev0\n",
            "    Uninstalling keras-tuner-1.0.2rc1.dev0:\n",
            "      Successfully uninstalled keras-tuner-1.0.2rc1.dev0\n",
            "Successfully installed keras-tuner-1.0.2rc1.dev0\n"
          ],
          "name": "stdout"
        }
      ]
    },
    {
      "cell_type": "code",
      "metadata": {
        "id": "sgNmWKFBvo8b",
        "outputId": "786c4134-dc2b-4385-9ba4-b8ea3175259c",
        "colab": {
          "base_uri": "https://localhost:8080/",
          "height": 35
        }
      },
      "source": [
        "x.shape[0]"
      ],
      "execution_count": null,
      "outputs": [
        {
          "output_type": "execute_result",
          "data": {
            "text/plain": [
              "8914175"
            ]
          },
          "metadata": {
            "tags": []
          },
          "execution_count": 11
        }
      ]
    },
    {
      "cell_type": "code",
      "metadata": {
        "id": "3S5kNvxrYI20"
      },
      "source": [
        "from tensorflow.python.keras.datasets import boston_housing\n",
        "from tensorflow.python.keras.models import Sequential\n",
        "from tensorflow.python.keras.layers import Dense\n",
        "from kerastuner import RandomSearch, Hyperband, BayesianOptimization\n",
        "from tensorflow import keras\n",
        "import tensorflow as tf"
      ],
      "execution_count": null,
      "outputs": []
    },
    {
      "cell_type": "code",
      "metadata": {
        "id": "Diqbm0KsYJrx"
      },
      "source": [
        "#########################KERAS$TUNER#################################################"
      ],
      "execution_count": null,
      "outputs": []
    },
    {
      "cell_type": "code",
      "metadata": {
        "id": "1Trr0of2qDQ8"
      },
      "source": [
        "def build_model(hp):\n",
        "    model = keras.Sequential()\n",
        "    activation_choice = hp.Choice('activation',values=['relu','tanh','selu'])\n",
        "    hp_learning_rate = hp.Choice('learning_rate', values = [0.001]) \n",
        "    #hp_units = hp.Int('units', min_value = int(240), max_value = 600), step = x.shape[1])\n",
        "    \n",
        "\n",
        "    model.add(Dense(units=hp.Int('units_input',    \n",
        "                                   min_value=700,    \n",
        "                                   max_value=900,   \n",
        "                                   step=x.shape[1]),\n",
        "                    #input_dim=784,\n",
        "                    activation='tanh'))\n",
        "    for i in range(hp.Int('num_layers',4,6)):\n",
        "      model.add(keras.layers.Dense(units=hp.Int('units_'+str(i),        \n",
        "                                    min_value=x.shape[1]*5,   \n",
        "                                    max_value=600,   \n",
        "                                    step=x.shape[1]*2),\n",
        "                      activation='tanh'))   \n",
        "    \n",
        "    model.add(Dense(1))\n",
        "    model.compile(\n",
        "        optimizer = hp.Choice('optimizer', values=['adam'\n",
        "                                                   #'rmsprop',\n",
        "                                                   #'adadelta'\n",
        "                                                   ]),\n",
        "        loss='mae',\n",
        "        metrics='mae'\n",
        "        )\n",
        "    tf.keras.backend.set_floatx('float64')\n",
        "    return model\n",
        "\n",
        "from kerastuner.engine.hyperparameters import HyperParameters\n",
        "\n",
        "tuner = BayesianOptimization(\n",
        "                     build_model,\n",
        "                     objective = 'mae', \n",
        "                     max_trials=30,\n",
        "                     directory=\"my_dir\",\n",
        "                     overwrite=True\n",
        "                     \n",
        "                     )   "
      ],
      "execution_count": null,
      "outputs": []
    },
    {
      "cell_type": "code",
      "metadata": {
        "id": "cFYzvivpqDdF"
      },
      "source": [
        ""
      ],
      "execution_count": null,
      "outputs": []
    },
    {
      "cell_type": "code",
      "metadata": {
        "id": "YpZOR_Yi5wqE"
      },
      "source": [
        "\n",
        "class ClearTrainingOutput(tf.keras.callbacks.Callback):\n",
        "  def on_train_end(*args, **kwargs):\n",
        "    IPython.display.clear_output(wait = True)"
      ],
      "execution_count": null,
      "outputs": []
    },
    {
      "cell_type": "code",
      "metadata": {
        "id": "XOaq8Wta61rW",
        "outputId": "77a106d2-5a87-4844-d41d-252f58565e6f",
        "colab": {
          "base_uri": "https://localhost:8080/",
          "height": 357
        }
      },
      "source": [
        "tuner.search_space_summary()"
      ],
      "execution_count": null,
      "outputs": [
        {
          "output_type": "stream",
          "text": [
            "Search space summary\n",
            "Default search space size: 9\n",
            "activation (Choice)\n",
            "{'default': 'relu', 'conditions': [], 'values': ['relu', 'tanh', 'selu'], 'ordered': False}\n",
            "learning_rate (Choice)\n",
            "{'default': 0.001, 'conditions': [], 'values': [0.001], 'ordered': True}\n",
            "units_input (Int)\n",
            "{'default': None, 'conditions': [], 'min_value': 700, 'max_value': 900, 'step': 15, 'sampling': None}\n",
            "num_layers (Int)\n",
            "{'default': None, 'conditions': [], 'min_value': 4, 'max_value': 6, 'step': 1, 'sampling': None}\n",
            "units_0 (Int)\n",
            "{'default': None, 'conditions': [], 'min_value': 75, 'max_value': 600, 'step': 30, 'sampling': None}\n",
            "units_1 (Int)\n",
            "{'default': None, 'conditions': [], 'min_value': 75, 'max_value': 600, 'step': 30, 'sampling': None}\n",
            "units_2 (Int)\n",
            "{'default': None, 'conditions': [], 'min_value': 75, 'max_value': 600, 'step': 30, 'sampling': None}\n",
            "units_3 (Int)\n",
            "{'default': None, 'conditions': [], 'min_value': 75, 'max_value': 600, 'step': 30, 'sampling': None}\n",
            "optimizer (Choice)\n",
            "{'default': 'adam', 'conditions': [], 'values': ['adam'], 'ordered': False}\n"
          ],
          "name": "stdout"
        }
      ]
    },
    {
      "cell_type": "code",
      "metadata": {
        "id": "RuAC1q51e2S-"
      },
      "source": [
        "################################################\n",
        "################################################\n",
        "################################################\n",
        "################################################\n",
        "from sklearn.model_selection import train_test_split\n",
        "x_train, x_test, y_train, y_test = train_test_split(x, y, test_size=0.3, random_state = 2)\n",
        "################################################\n",
        "################################################\n",
        "################################################"
      ],
      "execution_count": null,
      "outputs": []
    },
    {
      "cell_type": "code",
      "metadata": {
        "id": "0USdiDaS5w22",
        "outputId": "c81fbee8-f1df-4a9d-cb61-df836375c0a1",
        "colab": {
          "base_uri": "https://localhost:8080/",
          "height": 136
        }
      },
      "source": [
        "tuner.search(x_train, y_train, epochs = 10,batch_size=18372, validation_split=0.3)#, callbacks = [ClearTrainingOutput()])\n",
        "\n",
        "# Get the optimal hyperparameters\n",
        "best_hps = tuner.get_best_hyperparameters(num_trials = 1)[0]\n",
        "\n"
      ],
      "execution_count": null,
      "outputs": [
        {
          "output_type": "stream",
          "text": [
            "Trial 30 Complete [00h 00m 46s]\n",
            "mae: 11.359444682273741\n",
            "\n",
            "Best mae So Far: 11.352741170574706\n",
            "Total elapsed time: 00h 16m 27s\n",
            "INFO:tensorflow:Oracle triggered exit\n"
          ],
          "name": "stdout"
        },
        {
          "output_type": "stream",
          "text": [
            "INFO:tensorflow:Oracle triggered exit\n"
          ],
          "name": "stderr"
        }
      ]
    },
    {
      "cell_type": "code",
      "metadata": {
        "id": "nz9hN0HK6Qzy",
        "outputId": "882478f3-4cd6-4b0a-dab1-4ebd4b93952a",
        "colab": {
          "base_uri": "https://localhost:8080/",
          "height": 1000
        }
      },
      "source": [
        "tuner.results_summary()"
      ],
      "execution_count": null,
      "outputs": [
        {
          "output_type": "stream",
          "text": [
            "Results summary\n",
            "Results in my_dir/untitled_project\n",
            "Showing 10 best trials\n",
            "Objective(name='mae', direction='min')\n",
            "Trial summary\n",
            "Hyperparameters:\n",
            "activation: relu\n",
            "learning_rate: 0.001\n",
            "units_input: 850\n",
            "num_layers: 6\n",
            "units_0: 555\n",
            "units_1: 585\n",
            "units_2: 585\n",
            "units_3: 75\n",
            "optimizer: adam\n",
            "units_4: 345\n",
            "units_5: 195\n",
            "Score: 11.352741170574706\n",
            "Trial summary\n",
            "Hyperparameters:\n",
            "activation: tanh\n",
            "learning_rate: 0.001\n",
            "units_input: 715\n",
            "num_layers: 5\n",
            "units_0: 525\n",
            "units_1: 195\n",
            "units_2: 525\n",
            "units_3: 135\n",
            "optimizer: adam\n",
            "units_4: 135\n",
            "units_5: 165\n",
            "Score: 11.354270625476364\n",
            "Trial summary\n",
            "Hyperparameters:\n",
            "activation: relu\n",
            "learning_rate: 0.001\n",
            "units_input: 715\n",
            "num_layers: 6\n",
            "units_0: 495\n",
            "units_1: 435\n",
            "units_2: 495\n",
            "units_3: 75\n",
            "optimizer: adam\n",
            "units_4: 495\n",
            "units_5: 165\n",
            "Score: 11.354521148261275\n",
            "Trial summary\n",
            "Hyperparameters:\n",
            "activation: tanh\n",
            "learning_rate: 0.001\n",
            "units_input: 745\n",
            "num_layers: 6\n",
            "units_0: 525\n",
            "units_1: 195\n",
            "units_2: 105\n",
            "units_3: 585\n",
            "optimizer: adam\n",
            "units_4: 75\n",
            "units_5: 75\n",
            "Score: 11.355021511411422\n",
            "Trial summary\n",
            "Hyperparameters:\n",
            "activation: selu\n",
            "learning_rate: 0.001\n",
            "units_input: 715\n",
            "num_layers: 4\n",
            "units_0: 495\n",
            "units_1: 495\n",
            "units_2: 225\n",
            "units_3: 375\n",
            "optimizer: adam\n",
            "units_4: 405\n",
            "units_5: 75\n",
            "Score: 11.355029574731518\n",
            "Trial summary\n",
            "Hyperparameters:\n",
            "activation: selu\n",
            "learning_rate: 0.001\n",
            "units_input: 880\n",
            "num_layers: 5\n",
            "units_0: 465\n",
            "units_1: 105\n",
            "units_2: 75\n",
            "units_3: 375\n",
            "optimizer: adam\n",
            "units_4: 165\n",
            "units_5: 435\n",
            "Score: 11.355540763848248\n",
            "Trial summary\n",
            "Hyperparameters:\n",
            "activation: relu\n",
            "learning_rate: 0.001\n",
            "units_input: 865\n",
            "num_layers: 5\n",
            "units_0: 585\n",
            "units_1: 105\n",
            "units_2: 75\n",
            "units_3: 165\n",
            "optimizer: adam\n",
            "units_4: 555\n",
            "units_5: 135\n",
            "Score: 11.355797127003818\n",
            "Trial summary\n",
            "Hyperparameters:\n",
            "activation: tanh\n",
            "learning_rate: 0.001\n",
            "units_input: 865\n",
            "num_layers: 6\n",
            "units_0: 555\n",
            "units_1: 555\n",
            "units_2: 555\n",
            "units_3: 585\n",
            "optimizer: adam\n",
            "units_4: 525\n",
            "units_5: 195\n",
            "Score: 11.356157333359294\n",
            "Trial summary\n",
            "Hyperparameters:\n",
            "activation: relu\n",
            "learning_rate: 0.001\n",
            "units_input: 700\n",
            "num_layers: 4\n",
            "units_0: 435\n",
            "units_1: 435\n",
            "units_2: 315\n",
            "units_3: 255\n",
            "optimizer: adam\n",
            "Score: 11.356373232190606\n",
            "Trial summary\n",
            "Hyperparameters:\n",
            "activation: selu\n",
            "learning_rate: 0.001\n",
            "units_input: 790\n",
            "num_layers: 4\n",
            "units_0: 135\n",
            "units_1: 555\n",
            "units_2: 135\n",
            "units_3: 135\n",
            "optimizer: adam\n",
            "units_4: 165\n",
            "units_5: 495\n",
            "Score: 11.356382004227656\n"
          ],
          "name": "stdout"
        }
      ]
    },
    {
      "cell_type": "code",
      "metadata": {
        "id": "5dzqRaxO6RAc",
        "outputId": "a4064c99-a395-4bb8-d2b8-386134e9e1e0",
        "colab": {
          "base_uri": "https://localhost:8080/",
          "height": 51
        }
      },
      "source": [
        "\n",
        "model.evaluate(x_test, y_test)\n",
        "print()"
      ],
      "execution_count": null,
      "outputs": [
        {
          "output_type": "stream",
          "text": [
            "25961/25961 [==============================] - 36s 1ms/step - loss: 11.3527 - mae: 11.3527\n",
            "\n"
          ],
          "name": "stdout"
        }
      ]
    },
    {
      "cell_type": "code",
      "metadata": {
        "id": "DH9tqB75YKJ4"
      },
      "source": [
        ""
      ],
      "execution_count": null,
      "outputs": []
    },
    {
      "cell_type": "code",
      "metadata": {
        "id": "_iQG1mozWInG",
        "outputId": "2513d4e3-6b0e-4498-85f5-84406130d0b0",
        "colab": {
          "base_uri": "https://localhost:8080/",
          "height": 35
        }
      },
      "source": [
        "x_train.shape[1]"
      ],
      "execution_count": null,
      "outputs": [
        {
          "output_type": "execute_result",
          "data": {
            "text/plain": [
              "15"
            ]
          },
          "metadata": {
            "tags": []
          },
          "execution_count": 14
        }
      ]
    },
    {
      "cell_type": "code",
      "metadata": {
        "id": "O1UBk74XXyHL",
        "outputId": "434e4f00-ec96-4040-e43c-c257685a5a1c",
        "colab": {
          "base_uri": "https://localhost:8080/",
          "height": 126
        }
      },
      "source": [
        "pip install --upgrade keras"
      ],
      "execution_count": null,
      "outputs": [
        {
          "output_type": "stream",
          "text": [
            "Requirement already up-to-date: keras in /usr/local/lib/python3.6/dist-packages (2.4.3)\n",
            "Requirement already satisfied, skipping upgrade: numpy>=1.9.1 in /usr/local/lib/python3.6/dist-packages (from keras) (1.18.5)\n",
            "Requirement already satisfied, skipping upgrade: scipy>=0.14 in /usr/local/lib/python3.6/dist-packages (from keras) (1.4.1)\n",
            "Requirement already satisfied, skipping upgrade: h5py in /usr/local/lib/python3.6/dist-packages (from keras) (2.10.0)\n",
            "Requirement already satisfied, skipping upgrade: pyyaml in /usr/local/lib/python3.6/dist-packages (from keras) (3.13)\n",
            "Requirement already satisfied, skipping upgrade: six in /usr/local/lib/python3.6/dist-packages (from h5py->keras) (1.15.0)\n"
          ],
          "name": "stdout"
        }
      ]
    },
    {
      "cell_type": "code",
      "metadata": {
        "id": "Vw2Glyqf6sSh",
        "outputId": "6083ab3e-9913-4658-e4b7-35bd0a569eb9",
        "colab": {
          "base_uri": "https://localhost:8080/",
          "height": 54
        }
      },
      "source": [
        "def graphs(history):\n",
        "  loss = history[\"loss\"]\n",
        "  val_loss = history[\"val_loss\"]\n",
        "  epochs = range(1, len(history['loss']) + 1)\n",
        "  plt.plot(epochs, loss, 'r', label='Training loss')\n",
        "  plt.plot(epochs, val_loss, 'b', label='Validation loss')\n",
        "  plt.title('Training and validation loss')\n",
        "  plt.xlabel('Epochs')\n",
        "  plt.ylabel('Loss')\n",
        "  plt.legend()\n",
        "  plt.show()\n",
        "\n",
        "  plt.clf()\n",
        "'''\n",
        "  mae = history['mae']\n",
        "  val_mae = history['val_mae']\n",
        "  plt.plot(epochs, mae, 'r', label='Training mae')\n",
        "  plt.plot(epochs, val_mae, 'b', label='Validation mae')\n",
        "  plt.title('Training and validation mae')\n",
        "  plt.xlabel('Epochs')\n",
        "  plt.ylabel('mae')\n",
        "  plt.legend()\n",
        "  plt.show()\n",
        "'''\n",
        "\n"
      ],
      "execution_count": null,
      "outputs": [
        {
          "output_type": "execute_result",
          "data": {
            "application/vnd.google.colaboratory.intrinsic+json": {
              "type": "string"
            },
            "text/plain": [
              "\"\\n  mae = history['mae']\\n  val_mae = history['val_mae']\\n  plt.plot(epochs, mae, 'r', label='Training mae')\\n  plt.plot(epochs, val_mae, 'b', label='Validation mae')\\n  plt.title('Training and validation mae')\\n  plt.xlabel('Epochs')\\n  plt.ylabel('mae')\\n  plt.legend()\\n  plt.show()\\n\""
            ]
          },
          "metadata": {
            "tags": []
          },
          "execution_count": 15
        }
      ]
    },
    {
      "cell_type": "code",
      "metadata": {
        "id": "VY9tayQBHh1M"
      },
      "source": [
        "model = Sequential()\n",
        "################################################\n",
        "model.add(Dense(850, activation='relu', input_shape=(x.shape[1],)))\n",
        "model.add(Dense(555, activation='relu'))\n",
        "model.add(Dense(500, activation='relu'))\n",
        "model.add(Dense(545, activation='relu'))\n",
        "model.add(Dense(400, activation='relu'))\n",
        "model.add(Dense(355, activation='relu'))\n",
        "model.add(Dense(195, activation='relu'))\n",
        "################################################\n",
        "model.add(Dense(1))\n",
        "\n"
      ],
      "execution_count": null,
      "outputs": []
    },
    {
      "cell_type": "code",
      "metadata": {
        "id": "RFLXjpSHKqV8",
        "outputId": "0fee2804-e158-44e5-e1f2-d4ea42524fcd",
        "colab": {
          "base_uri": "https://localhost:8080/",
          "height": 472
        }
      },
      "source": [
        "print(model.summary())"
      ],
      "execution_count": null,
      "outputs": [
        {
          "output_type": "stream",
          "text": [
            "Model: \"sequential_1\"\n",
            "_________________________________________________________________\n",
            "Layer (type)                 Output Shape              Param #   \n",
            "=================================================================\n",
            "dense_8 (Dense)              (None, 850)               13600     \n",
            "_________________________________________________________________\n",
            "dense_9 (Dense)              (None, 555)               472305    \n",
            "_________________________________________________________________\n",
            "dense_10 (Dense)             (None, 500)               278000    \n",
            "_________________________________________________________________\n",
            "dense_11 (Dense)             (None, 545)               273045    \n",
            "_________________________________________________________________\n",
            "dense_12 (Dense)             (None, 400)               218400    \n",
            "_________________________________________________________________\n",
            "dense_13 (Dense)             (None, 355)               142355    \n",
            "_________________________________________________________________\n",
            "dense_14 (Dense)             (None, 195)               69420     \n",
            "_________________________________________________________________\n",
            "dense_15 (Dense)             (None, 1)                 196       \n",
            "=================================================================\n",
            "Total params: 1,467,321\n",
            "Trainable params: 1,467,321\n",
            "Non-trainable params: 0\n",
            "_________________________________________________________________\n",
            "None\n"
          ],
          "name": "stdout"
        }
      ]
    },
    {
      "cell_type": "code",
      "metadata": {
        "id": "n81BCu787BUr",
        "outputId": "7a61e80a-8ef1-4377-e888-3e20ca9b2c20",
        "colab": {
          "base_uri": "https://localhost:8080/",
          "height": 310
        }
      },
      "source": [
        "model.compile(optimizer='adam', loss='mae')\n",
        "history = model.fit(x_train, y_train, epochs=7, batch_size=65536, verbose=1, validation_split=0.2)\n",
        "history = history.history\n",
        " "
      ],
      "execution_count": null,
      "outputs": [
        {
          "output_type": "stream",
          "text": [
            "Epoch 1/7\n",
            " 2/77 [..............................] - ETA: 26s - loss: 3.3810WARNING:tensorflow:Callbacks method `on_train_batch_end` is slow compared to the batch time (batch time: 0.1342s vs `on_train_batch_end` time: 0.2712s). Check your callbacks.\n",
            "77/77 [==============================] - 35s 449ms/step - loss: 3.1025 - val_loss: 2.8885\n",
            "Epoch 2/7\n",
            "77/77 [==============================] - 34s 442ms/step - loss: 2.8058 - val_loss: 2.7536\n",
            "Epoch 3/7\n",
            "77/77 [==============================] - 34s 441ms/step - loss: 2.7261 - val_loss: 2.7088\n",
            "Epoch 4/7\n",
            "77/77 [==============================] - 34s 442ms/step - loss: 2.6944 - val_loss: 2.6864\n",
            "Epoch 5/7\n",
            "77/77 [==============================] - 34s 442ms/step - loss: 2.6778 - val_loss: 2.6745\n",
            "Epoch 6/7\n",
            "77/77 [==============================] - 34s 441ms/step - loss: 2.6691 - val_loss: 2.6682\n",
            "Epoch 7/7\n",
            "77/77 [==============================] - 34s 441ms/step - loss: 2.6646 - val_loss: 2.6650\n"
          ],
          "name": "stdout"
        }
      ]
    },
    {
      "cell_type": "code",
      "metadata": {
        "id": "PRGrPP3YNeXN",
        "outputId": "0a3a76df-d1f9-4ffa-ecf5-9a80efaa7b61",
        "colab": {
          "base_uri": "https://localhost:8080/",
          "height": 313
        }
      },
      "source": [
        "\n",
        "# draw all plots\n",
        "graphs(history)\n"
      ],
      "execution_count": null,
      "outputs": [
        {
          "output_type": "display_data",
          "data": {
            "image/png": "[encoded data removed]",
            "text/plain": [
              "<Figure size 432x288 with 1 Axes>"
            ]
          },
          "metadata": {
            "tags": [],
            "needs_background": "light"
          }
        },
        {
          "output_type": "display_data",
          "data": {
            "text/plain": [
              "<Figure size 432x288 with 0 Axes>"
            ]
          },
          "metadata": {
            "tags": []
          }
        }
      ]
    },
    {
      "cell_type": "code",
      "metadata": {
        "id": "bhgEXUM8-Vxl",
        "outputId": "23c86be5-9857-4753-f16b-5e16b2cc5c86",
        "colab": {
          "base_uri": "https://localhost:8080/",
          "height": 145
        }
      },
      "source": [
        "pred = model.predict(x_test)\n",
        "print(pred)\n"
      ],
      "execution_count": null,
      "outputs": [
        {
          "output_type": "stream",
          "text": [
            "[[1.0086957]\n",
            " [1.0073109]\n",
            " [1.1464934]\n",
            " ...\n",
            " [2.2166593]\n",
            " [1.4297377]\n",
            " [1.9612856]]\n"
          ],
          "name": "stdout"
        }
      ]
    },
    {
      "cell_type": "code",
      "metadata": {
        "id": "jcKKWcKCczct",
        "outputId": "af94cce1-ca0e-4d93-ef92-ac11e7c80133",
        "colab": {
          "base_uri": "https://localhost:8080/",
          "height": 35
        }
      },
      "source": [
        "pred.shape"
      ],
      "execution_count": null,
      "outputs": [
        {
          "output_type": "execute_result",
          "data": {
            "text/plain": [
              "(2674253, 1)"
            ]
          },
          "metadata": {
            "tags": []
          },
          "execution_count": 31
        }
      ]
    },
    {
      "cell_type": "code",
      "metadata": {
        "id": "yOrPddVlcz1d",
        "outputId": "10bf6240-f359-4138-f31f-81e3a138e11a",
        "colab": {
          "base_uri": "https://localhost:8080/",
          "height": 35
        }
      },
      "source": [
        "test_index=15\n",
        "\n",
        "print(\"Predict:\", pred[test_index][0],\", True:\",y_test.values[test_index])"
      ],
      "execution_count": null,
      "outputs": [
        {
          "output_type": "stream",
          "text": [
            "Predict: 3.7005012 , True: 4.0260026\n"
          ],
          "name": "stdout"
        }
      ]
    }
  ]
}