{
  "nbformat": 4,
  "nbformat_minor": 0,
  "metadata": {
    "colab": {
      "name": "Copy of  lab1KremlevWithPlot",
      "provenance": [],
      "collapsed_sections": [],
      "toc_visible": true
    },
    "kernelspec": {
      "name": "python3",
      "display_name": "Python 3"
    },
    "accelerator": "GPU"
  },
  "cells": [
    {
      "cell_type": "markdown",
      "metadata": {
        "id": "UjfquuN3HkHt"
      },
      "source": [
        "### Лабораторная работа № 1. \n",
        "### Выполнил: Кремлев Антон Алексеевич\n",
        "### Учебная группа: 18-АС\n",
        "### 5 Вариант\n",
        "### Набор данных: 5 ( how-much-did-it-rain-ii )\n",
        "\n"
      ]
    },
    {
      "cell_type": "code",
      "metadata": {
        "id": "DpGtd-_J5uKX",
        "outputId": "7ea4176c-affd-49f6-ed67-51998b5104ea",
        "colab": {
          "base_uri": "https://localhost:8080/",
          "height": 34
        }
      },
      "source": [
        "%matplotlib inline\n",
        "import matplotlib.pyplot as plt\n",
        "import pandas as pd\n",
        "import numpy as np\n",
        "from google.colab import drive\n",
        "drive.mount('/content/drive')\n"
      ],
      "execution_count": 1,
      "outputs": [
        {
          "output_type": "stream",
          "text": [
            "Mounted at /content/drive\n"
          ],
          "name": "stdout"
        }
      ]
    },
    {
      "cell_type": "code",
      "metadata": {
        "id": "6YPbhJvc5uni",
        "outputId": "583295f1-2d46-4d8b-a50b-7c2d86a9f5ea",
        "colab": {
          "base_uri": "https://localhost:8080/",
          "height": 439
        }
      },
      "source": [
        "dataf = pd.read_csv(\"/content/drive/My Drive/data/train.csv\")\n",
        "dataf"
      ],
      "execution_count": 2,
      "outputs": [
        {
          "output_type": "execute_result",
          "data": {
            "text/html": [
              "<div>\n",
              "<style scoped>\n",
              "    .dataframe tbody tr th:only-of-type {\n",
              "        vertical-align: middle;\n",
              "    }\n",
              "\n",
              "    .dataframe tbody tr th {\n",
              "        vertical-align: top;\n",
              "    }\n",
              "\n",
              "    .dataframe thead th {\n",
              "        text-align: right;\n",
              "    }\n",
              "</style>\n",
              "<table border=\"1\" class=\"dataframe\">\n",
              "  <thead>\n",
              "    <tr style=\"text-align: right;\">\n",
              "      <th></th>\n",
              "      <th>Id</th>\n",
              "      <th>minutes_past</th>\n",
              "      <th>radardist_km</th>\n",
              "      <th>Ref</th>\n",
              "      <th>Ref_5x5_10th</th>\n",
              "      <th>Ref_5x5_50th</th>\n",
              "      <th>Ref_5x5_90th</th>\n",
              "      <th>RefComposite</th>\n",
              "      <th>RefComposite_5x5_10th</th>\n",
              "      <th>RefComposite_5x5_50th</th>\n",
              "      <th>RefComposite_5x5_90th</th>\n",
              "      <th>RhoHV</th>\n",
              "      <th>RhoHV_5x5_10th</th>\n",
              "      <th>RhoHV_5x5_50th</th>\n",
              "      <th>RhoHV_5x5_90th</th>\n",
              "      <th>Zdr</th>\n",
              "      <th>Zdr_5x5_10th</th>\n",
              "      <th>Zdr_5x5_50th</th>\n",
              "      <th>Zdr_5x5_90th</th>\n",
              "      <th>Kdp</th>\n",
              "      <th>Kdp_5x5_10th</th>\n",
              "      <th>Kdp_5x5_50th</th>\n",
              "      <th>Kdp_5x5_90th</th>\n",
              "      <th>Expected</th>\n",
              "    </tr>\n",
              "  </thead>\n",
              "  <tbody>\n",
              "    <tr>\n",
              "      <th>0</th>\n",
              "      <td>1</td>\n",
              "      <td>3</td>\n",
              "      <td>10.0</td>\n",
              "      <td>NaN</td>\n",
              "      <td>NaN</td>\n",
              "      <td>NaN</td>\n",
              "      <td>NaN</td>\n",
              "      <td>NaN</td>\n",
              "      <td>NaN</td>\n",
              "      <td>NaN</td>\n",
              "      <td>NaN</td>\n",
              "      <td>NaN</td>\n",
              "      <td>NaN</td>\n",
              "      <td>NaN</td>\n",
              "      <td>NaN</td>\n",
              "      <td>NaN</td>\n",
              "      <td>NaN</td>\n",
              "      <td>NaN</td>\n",
              "      <td>NaN</td>\n",
              "      <td>NaN</td>\n",
              "      <td>NaN</td>\n",
              "      <td>NaN</td>\n",
              "      <td>NaN</td>\n",
              "      <td>0.254000</td>\n",
              "    </tr>\n",
              "    <tr>\n",
              "      <th>1</th>\n",
              "      <td>1</td>\n",
              "      <td>16</td>\n",
              "      <td>10.0</td>\n",
              "      <td>NaN</td>\n",
              "      <td>NaN</td>\n",
              "      <td>NaN</td>\n",
              "      <td>NaN</td>\n",
              "      <td>NaN</td>\n",
              "      <td>NaN</td>\n",
              "      <td>NaN</td>\n",
              "      <td>NaN</td>\n",
              "      <td>NaN</td>\n",
              "      <td>NaN</td>\n",
              "      <td>NaN</td>\n",
              "      <td>NaN</td>\n",
              "      <td>NaN</td>\n",
              "      <td>NaN</td>\n",
              "      <td>NaN</td>\n",
              "      <td>NaN</td>\n",
              "      <td>NaN</td>\n",
              "      <td>NaN</td>\n",
              "      <td>NaN</td>\n",
              "      <td>NaN</td>\n",
              "      <td>0.254000</td>\n",
              "    </tr>\n",
              "    <tr>\n",
              "      <th>2</th>\n",
              "      <td>1</td>\n",
              "      <td>25</td>\n",
              "      <td>10.0</td>\n",
              "      <td>NaN</td>\n",
              "      <td>NaN</td>\n",
              "      <td>NaN</td>\n",
              "      <td>NaN</td>\n",
              "      <td>NaN</td>\n",
              "      <td>NaN</td>\n",
              "      <td>NaN</td>\n",
              "      <td>NaN</td>\n",
              "      <td>NaN</td>\n",
              "      <td>NaN</td>\n",
              "      <td>NaN</td>\n",
              "      <td>NaN</td>\n",
              "      <td>NaN</td>\n",
              "      <td>NaN</td>\n",
              "      <td>NaN</td>\n",
              "      <td>NaN</td>\n",
              "      <td>NaN</td>\n",
              "      <td>NaN</td>\n",
              "      <td>NaN</td>\n",
              "      <td>NaN</td>\n",
              "      <td>0.254000</td>\n",
              "    </tr>\n",
              "    <tr>\n",
              "      <th>3</th>\n",
              "      <td>1</td>\n",
              "      <td>35</td>\n",
              "      <td>10.0</td>\n",
              "      <td>NaN</td>\n",
              "      <td>NaN</td>\n",
              "      <td>NaN</td>\n",
              "      <td>NaN</td>\n",
              "      <td>NaN</td>\n",
              "      <td>NaN</td>\n",
              "      <td>NaN</td>\n",
              "      <td>NaN</td>\n",
              "      <td>NaN</td>\n",
              "      <td>NaN</td>\n",
              "      <td>NaN</td>\n",
              "      <td>NaN</td>\n",
              "      <td>NaN</td>\n",
              "      <td>NaN</td>\n",
              "      <td>NaN</td>\n",
              "      <td>NaN</td>\n",
              "      <td>NaN</td>\n",
              "      <td>NaN</td>\n",
              "      <td>NaN</td>\n",
              "      <td>NaN</td>\n",
              "      <td>0.254000</td>\n",
              "    </tr>\n",
              "    <tr>\n",
              "      <th>4</th>\n",
              "      <td>1</td>\n",
              "      <td>45</td>\n",
              "      <td>10.0</td>\n",
              "      <td>NaN</td>\n",
              "      <td>NaN</td>\n",
              "      <td>NaN</td>\n",
              "      <td>NaN</td>\n",
              "      <td>NaN</td>\n",
              "      <td>NaN</td>\n",
              "      <td>NaN</td>\n",
              "      <td>NaN</td>\n",
              "      <td>NaN</td>\n",
              "      <td>NaN</td>\n",
              "      <td>NaN</td>\n",
              "      <td>NaN</td>\n",
              "      <td>NaN</td>\n",
              "      <td>NaN</td>\n",
              "      <td>NaN</td>\n",
              "      <td>NaN</td>\n",
              "      <td>NaN</td>\n",
              "      <td>NaN</td>\n",
              "      <td>NaN</td>\n",
              "      <td>NaN</td>\n",
              "      <td>0.254000</td>\n",
              "    </tr>\n",
              "    <tr>\n",
              "      <th>...</th>\n",
              "      <td>...</td>\n",
              "      <td>...</td>\n",
              "      <td>...</td>\n",
              "      <td>...</td>\n",
              "      <td>...</td>\n",
              "      <td>...</td>\n",
              "      <td>...</td>\n",
              "      <td>...</td>\n",
              "      <td>...</td>\n",
              "      <td>...</td>\n",
              "      <td>...</td>\n",
              "      <td>...</td>\n",
              "      <td>...</td>\n",
              "      <td>...</td>\n",
              "      <td>...</td>\n",
              "      <td>...</td>\n",
              "      <td>...</td>\n",
              "      <td>...</td>\n",
              "      <td>...</td>\n",
              "      <td>...</td>\n",
              "      <td>...</td>\n",
              "      <td>...</td>\n",
              "      <td>...</td>\n",
              "      <td>...</td>\n",
              "    </tr>\n",
              "    <tr>\n",
              "      <th>13765196</th>\n",
              "      <td>1180945</td>\n",
              "      <td>38</td>\n",
              "      <td>9.0</td>\n",
              "      <td>33.0</td>\n",
              "      <td>19.5</td>\n",
              "      <td>25.5</td>\n",
              "      <td>36.5</td>\n",
              "      <td>33.0</td>\n",
              "      <td>20.5</td>\n",
              "      <td>28.0</td>\n",
              "      <td>36.5</td>\n",
              "      <td>NaN</td>\n",
              "      <td>NaN</td>\n",
              "      <td>NaN</td>\n",
              "      <td>NaN</td>\n",
              "      <td>NaN</td>\n",
              "      <td>NaN</td>\n",
              "      <td>NaN</td>\n",
              "      <td>NaN</td>\n",
              "      <td>NaN</td>\n",
              "      <td>NaN</td>\n",
              "      <td>NaN</td>\n",
              "      <td>NaN</td>\n",
              "      <td>8.636004</td>\n",
              "    </tr>\n",
              "    <tr>\n",
              "      <th>13765197</th>\n",
              "      <td>1180945</td>\n",
              "      <td>42</td>\n",
              "      <td>9.0</td>\n",
              "      <td>33.0</td>\n",
              "      <td>21.0</td>\n",
              "      <td>30.5</td>\n",
              "      <td>37.0</td>\n",
              "      <td>36.5</td>\n",
              "      <td>22.0</td>\n",
              "      <td>33.5</td>\n",
              "      <td>37.0</td>\n",
              "      <td>NaN</td>\n",
              "      <td>NaN</td>\n",
              "      <td>NaN</td>\n",
              "      <td>NaN</td>\n",
              "      <td>NaN</td>\n",
              "      <td>NaN</td>\n",
              "      <td>NaN</td>\n",
              "      <td>NaN</td>\n",
              "      <td>NaN</td>\n",
              "      <td>NaN</td>\n",
              "      <td>NaN</td>\n",
              "      <td>NaN</td>\n",
              "      <td>8.636004</td>\n",
              "    </tr>\n",
              "    <tr>\n",
              "      <th>13765198</th>\n",
              "      <td>1180945</td>\n",
              "      <td>47</td>\n",
              "      <td>9.0</td>\n",
              "      <td>29.5</td>\n",
              "      <td>10.0</td>\n",
              "      <td>26.0</td>\n",
              "      <td>30.5</td>\n",
              "      <td>31.0</td>\n",
              "      <td>16.5</td>\n",
              "      <td>26.0</td>\n",
              "      <td>33.0</td>\n",
              "      <td>1.041667</td>\n",
              "      <td>NaN</td>\n",
              "      <td>1.025000</td>\n",
              "      <td>1.051667</td>\n",
              "      <td>1.75</td>\n",
              "      <td>NaN</td>\n",
              "      <td>0.750</td>\n",
              "      <td>3.0000</td>\n",
              "      <td>13.379990</td>\n",
              "      <td>NaN</td>\n",
              "      <td>NaN</td>\n",
              "      <td>13.379990</td>\n",
              "      <td>8.636004</td>\n",
              "    </tr>\n",
              "    <tr>\n",
              "      <th>13765199</th>\n",
              "      <td>1180945</td>\n",
              "      <td>52</td>\n",
              "      <td>9.0</td>\n",
              "      <td>19.0</td>\n",
              "      <td>NaN</td>\n",
              "      <td>15.5</td>\n",
              "      <td>26.5</td>\n",
              "      <td>19.0</td>\n",
              "      <td>NaN</td>\n",
              "      <td>16.5</td>\n",
              "      <td>26.5</td>\n",
              "      <td>NaN</td>\n",
              "      <td>NaN</td>\n",
              "      <td>NaN</td>\n",
              "      <td>1.051667</td>\n",
              "      <td>NaN</td>\n",
              "      <td>NaN</td>\n",
              "      <td>NaN</td>\n",
              "      <td>2.8125</td>\n",
              "      <td>NaN</td>\n",
              "      <td>NaN</td>\n",
              "      <td>NaN</td>\n",
              "      <td>NaN</td>\n",
              "      <td>8.636004</td>\n",
              "    </tr>\n",
              "    <tr>\n",
              "      <th>13765200</th>\n",
              "      <td>1180945</td>\n",
              "      <td>57</td>\n",
              "      <td>9.0</td>\n",
              "      <td>7.5</td>\n",
              "      <td>NaN</td>\n",
              "      <td>10.0</td>\n",
              "      <td>13.0</td>\n",
              "      <td>14.5</td>\n",
              "      <td>10.0</td>\n",
              "      <td>12.5</td>\n",
              "      <td>16.0</td>\n",
              "      <td>1.051667</td>\n",
              "      <td>0.845</td>\n",
              "      <td>1.021667</td>\n",
              "      <td>1.051667</td>\n",
              "      <td>0.00</td>\n",
              "      <td>-1.125</td>\n",
              "      <td>0.375</td>\n",
              "      <td>3.2500</td>\n",
              "      <td>6.069992</td>\n",
              "      <td>NaN</td>\n",
              "      <td>-8.029999</td>\n",
              "      <td>6.069992</td>\n",
              "      <td>8.636004</td>\n",
              "    </tr>\n",
              "  </tbody>\n",
              "</table>\n",
              "<p>13765201 rows × 24 columns</p>\n",
              "</div>"
            ],
            "text/plain": [
              "               Id  minutes_past  ...  Kdp_5x5_90th  Expected\n",
              "0               1             3  ...           NaN  0.254000\n",
              "1               1            16  ...           NaN  0.254000\n",
              "2               1            25  ...           NaN  0.254000\n",
              "3               1            35  ...           NaN  0.254000\n",
              "4               1            45  ...           NaN  0.254000\n",
              "...           ...           ...  ...           ...       ...\n",
              "13765196  1180945            38  ...           NaN  8.636004\n",
              "13765197  1180945            42  ...           NaN  8.636004\n",
              "13765198  1180945            47  ...     13.379990  8.636004\n",
              "13765199  1180945            52  ...           NaN  8.636004\n",
              "13765200  1180945            57  ...      6.069992  8.636004\n",
              "\n",
              "[13765201 rows x 24 columns]"
            ]
          },
          "metadata": {
            "tags": []
          },
          "execution_count": 2
        }
      ]
    },
    {
      "cell_type": "code",
      "metadata": {
        "id": "KlLygjjBbhPD",
        "outputId": "7e44f76f-862b-4729-e0ed-52a674a54335",
        "colab": {
          "base_uri": "https://localhost:8080/",
          "height": 34
        }
      },
      "source": [
        "#Remove ids with NaNs in Ref column for each observation \n",
        "true_ids = set(dataf.loc[dataf['Ref'].notna(), 'Id'])\n",
        "dataf = dataf[dataf['Id'].isin(true_ids)]\n",
        "dataf.shape"
      ],
      "execution_count": 3,
      "outputs": [
        {
          "output_type": "execute_result",
          "data": {
            "text/plain": [
              "(9125329, 24)"
            ]
          },
          "metadata": {
            "tags": []
          },
          "execution_count": 3
        }
      ]
    },
    {
      "cell_type": "code",
      "metadata": {
        "id": "drZ1wjfUbhgf",
        "outputId": "c1c4ea8f-497a-4f16-a7da-e78b765c94b1",
        "colab": {
          "base_uri": "https://localhost:8080/",
          "height": 102
        }
      },
      "source": [
        "#fillna\n",
        "dataf.fillna(0.0, inplace=True)\n",
        "dataf.reset_index(drop=True, inplace=True)\n"
      ],
      "execution_count": 4,
      "outputs": [
        {
          "output_type": "stream",
          "text": [
            "/usr/local/lib/python3.6/dist-packages/pandas/core/frame.py:4322: SettingWithCopyWarning: \n",
            "A value is trying to be set on a copy of a slice from a DataFrame\n",
            "\n",
            "See the caveats in the documentation: https://pandas.pydata.org/pandas-docs/stable/user_guide/indexing.html#returning-a-view-versus-a-copy\n",
            "  downcast=downcast,\n"
          ],
          "name": "stderr"
        }
      ]
    },
    {
      "cell_type": "code",
      "metadata": {
        "id": "qU1ltgbCbh80",
        "outputId": "175d134f-3202-45ad-b11d-d81aa6064b1d",
        "colab": {
          "base_uri": "https://localhost:8080/",
          "height": 34
        }
      },
      "source": [
        "#wipe outliers expected data\n",
        "THRESHOLD = 70\n",
        "'''\n",
        "dataf = dataf[dataf['Expected'] < THRESHOLD]\n",
        "dataf.shape\n",
        "'''\n",
        "df_temp = pd.DataFrame(dataf.groupby('Id')['Expected'].mean()) # mean, or any value (the same for all)\n",
        "\n",
        "dataf = dataf[np.in1d(dataf.Id, np.array(df_temp[df_temp['Expected'] <THRESHOLD ].index))]\n",
        "dataf.drop(dataf.columns[[0,4,5,6,7,8,9,10]] ,axis = 1 )\n",
        "del df_temp\n",
        "dataf.shape"
      ],
      "execution_count": 5,
      "outputs": [
        {
          "output_type": "execute_result",
          "data": {
            "text/plain": [
              "(8914175, 24)"
            ]
          },
          "metadata": {
            "tags": []
          },
          "execution_count": 5
        }
      ]
    },
    {
      "cell_type": "code",
      "metadata": {
        "id": "6vfk6dzPbiJ1",
        "outputId": "5c493a28-b3dc-4703-f125-4bd10a864e26",
        "colab": {
          "base_uri": "https://localhost:8080/",
          "height": 224
        }
      },
      "source": [
        "dataf.head()"
      ],
      "execution_count": 6,
      "outputs": [
        {
          "output_type": "execute_result",
          "data": {
            "text/html": [
              "<div>\n",
              "<style scoped>\n",
              "    .dataframe tbody tr th:only-of-type {\n",
              "        vertical-align: middle;\n",
              "    }\n",
              "\n",
              "    .dataframe tbody tr th {\n",
              "        vertical-align: top;\n",
              "    }\n",
              "\n",
              "    .dataframe thead th {\n",
              "        text-align: right;\n",
              "    }\n",
              "</style>\n",
              "<table border=\"1\" class=\"dataframe\">\n",
              "  <thead>\n",
              "    <tr style=\"text-align: right;\">\n",
              "      <th></th>\n",
              "      <th>Id</th>\n",
              "      <th>minutes_past</th>\n",
              "      <th>radardist_km</th>\n",
              "      <th>Ref</th>\n",
              "      <th>Ref_5x5_10th</th>\n",
              "      <th>Ref_5x5_50th</th>\n",
              "      <th>Ref_5x5_90th</th>\n",
              "      <th>RefComposite</th>\n",
              "      <th>RefComposite_5x5_10th</th>\n",
              "      <th>RefComposite_5x5_50th</th>\n",
              "      <th>RefComposite_5x5_90th</th>\n",
              "      <th>RhoHV</th>\n",
              "      <th>RhoHV_5x5_10th</th>\n",
              "      <th>RhoHV_5x5_50th</th>\n",
              "      <th>RhoHV_5x5_90th</th>\n",
              "      <th>Zdr</th>\n",
              "      <th>Zdr_5x5_10th</th>\n",
              "      <th>Zdr_5x5_50th</th>\n",
              "      <th>Zdr_5x5_90th</th>\n",
              "      <th>Kdp</th>\n",
              "      <th>Kdp_5x5_10th</th>\n",
              "      <th>Kdp_5x5_50th</th>\n",
              "      <th>Kdp_5x5_90th</th>\n",
              "      <th>Expected</th>\n",
              "    </tr>\n",
              "  </thead>\n",
              "  <tbody>\n",
              "    <tr>\n",
              "      <th>0</th>\n",
              "      <td>2</td>\n",
              "      <td>1</td>\n",
              "      <td>2.0</td>\n",
              "      <td>9.0</td>\n",
              "      <td>5.0</td>\n",
              "      <td>7.5</td>\n",
              "      <td>10.5</td>\n",
              "      <td>15.0</td>\n",
              "      <td>10.5</td>\n",
              "      <td>16.5</td>\n",
              "      <td>23.5</td>\n",
              "      <td>0.998333</td>\n",
              "      <td>0.998333</td>\n",
              "      <td>0.998333</td>\n",
              "      <td>0.998333</td>\n",
              "      <td>0.3750</td>\n",
              "      <td>-0.1250</td>\n",
              "      <td>0.3125</td>\n",
              "      <td>0.8750</td>\n",
              "      <td>1.059998</td>\n",
              "      <td>-1.410004</td>\n",
              "      <td>-0.350006</td>\n",
              "      <td>1.059998</td>\n",
              "      <td>1.016</td>\n",
              "    </tr>\n",
              "    <tr>\n",
              "      <th>1</th>\n",
              "      <td>2</td>\n",
              "      <td>6</td>\n",
              "      <td>2.0</td>\n",
              "      <td>26.5</td>\n",
              "      <td>22.5</td>\n",
              "      <td>25.5</td>\n",
              "      <td>31.5</td>\n",
              "      <td>26.5</td>\n",
              "      <td>26.5</td>\n",
              "      <td>28.5</td>\n",
              "      <td>32.0</td>\n",
              "      <td>1.001667</td>\n",
              "      <td>0.981667</td>\n",
              "      <td>0.998333</td>\n",
              "      <td>1.005000</td>\n",
              "      <td>0.0625</td>\n",
              "      <td>-0.1875</td>\n",
              "      <td>0.2500</td>\n",
              "      <td>0.6875</td>\n",
              "      <td>0.000000</td>\n",
              "      <td>0.000000</td>\n",
              "      <td>0.000000</td>\n",
              "      <td>1.409988</td>\n",
              "      <td>1.016</td>\n",
              "    </tr>\n",
              "    <tr>\n",
              "      <th>2</th>\n",
              "      <td>2</td>\n",
              "      <td>11</td>\n",
              "      <td>2.0</td>\n",
              "      <td>21.5</td>\n",
              "      <td>15.5</td>\n",
              "      <td>20.5</td>\n",
              "      <td>25.0</td>\n",
              "      <td>26.5</td>\n",
              "      <td>23.5</td>\n",
              "      <td>25.0</td>\n",
              "      <td>27.0</td>\n",
              "      <td>1.001667</td>\n",
              "      <td>0.995000</td>\n",
              "      <td>0.998333</td>\n",
              "      <td>1.001667</td>\n",
              "      <td>0.3125</td>\n",
              "      <td>-0.0625</td>\n",
              "      <td>0.3125</td>\n",
              "      <td>0.6250</td>\n",
              "      <td>0.349991</td>\n",
              "      <td>0.000000</td>\n",
              "      <td>-0.350006</td>\n",
              "      <td>1.759994</td>\n",
              "      <td>1.016</td>\n",
              "    </tr>\n",
              "    <tr>\n",
              "      <th>3</th>\n",
              "      <td>2</td>\n",
              "      <td>16</td>\n",
              "      <td>2.0</td>\n",
              "      <td>18.0</td>\n",
              "      <td>14.0</td>\n",
              "      <td>17.5</td>\n",
              "      <td>21.0</td>\n",
              "      <td>20.5</td>\n",
              "      <td>18.0</td>\n",
              "      <td>20.5</td>\n",
              "      <td>23.0</td>\n",
              "      <td>0.995000</td>\n",
              "      <td>0.995000</td>\n",
              "      <td>0.998333</td>\n",
              "      <td>1.001667</td>\n",
              "      <td>0.2500</td>\n",
              "      <td>0.1250</td>\n",
              "      <td>0.3750</td>\n",
              "      <td>0.6875</td>\n",
              "      <td>0.349991</td>\n",
              "      <td>-1.059998</td>\n",
              "      <td>0.000000</td>\n",
              "      <td>1.059998</td>\n",
              "      <td>1.016</td>\n",
              "    </tr>\n",
              "    <tr>\n",
              "      <th>4</th>\n",
              "      <td>2</td>\n",
              "      <td>21</td>\n",
              "      <td>2.0</td>\n",
              "      <td>24.5</td>\n",
              "      <td>16.5</td>\n",
              "      <td>21.0</td>\n",
              "      <td>24.5</td>\n",
              "      <td>24.5</td>\n",
              "      <td>21.0</td>\n",
              "      <td>24.0</td>\n",
              "      <td>28.0</td>\n",
              "      <td>0.998333</td>\n",
              "      <td>0.995000</td>\n",
              "      <td>0.998333</td>\n",
              "      <td>0.998333</td>\n",
              "      <td>0.2500</td>\n",
              "      <td>0.0625</td>\n",
              "      <td>0.1875</td>\n",
              "      <td>0.5625</td>\n",
              "      <td>-0.350006</td>\n",
              "      <td>-1.059998</td>\n",
              "      <td>-0.350006</td>\n",
              "      <td>1.759994</td>\n",
              "      <td>1.016</td>\n",
              "    </tr>\n",
              "  </tbody>\n",
              "</table>\n",
              "</div>"
            ],
            "text/plain": [
              "   Id  minutes_past  radardist_km  ...  Kdp_5x5_50th  Kdp_5x5_90th  Expected\n",
              "0   2             1           2.0  ...     -0.350006      1.059998     1.016\n",
              "1   2             6           2.0  ...      0.000000      1.409988     1.016\n",
              "2   2            11           2.0  ...     -0.350006      1.759994     1.016\n",
              "3   2            16           2.0  ...      0.000000      1.059998     1.016\n",
              "4   2            21           2.0  ...     -0.350006      1.759994     1.016\n",
              "\n",
              "[5 rows x 24 columns]"
            ]
          },
          "metadata": {
            "tags": []
          },
          "execution_count": 6
        }
      ]
    },
    {
      "cell_type": "code",
      "metadata": {
        "id": "MRfrmSsx5u3J"
      },
      "source": [
        "#cels after cleaning NULL & NaN fields\n",
        "#dataf = dataf.dropna()\n",
        "#dataf.shape"
      ],
      "execution_count": null,
      "outputs": []
    },
    {
      "cell_type": "code",
      "metadata": {
        "id": "sr6jQ7qlS4Bv",
        "outputId": "b8026599-cc24-4b22-d28c-e0e55ed20f74",
        "colab": {
          "base_uri": "https://localhost:8080/",
          "height": 398
        }
      },
      "source": [
        "import seaborn as sns\n",
        "from sklearn.preprocessing import StandardScaler\n",
        "scaler = StandardScaler()\n",
        "sns.heatmap(dataf.corr())"
      ],
      "execution_count": null,
      "outputs": [
        {
          "output_type": "execute_result",
          "data": {
            "text/plain": [
              "<matplotlib.axes._subplots.AxesSubplot at 0x7f7f8623b898>"
            ]
          },
          "metadata": {
            "tags": []
          },
          "execution_count": 7
        },
        {
          "output_type": "display_data",
          "data": {
            "image/png": "[encoded data removed]",
            "text/plain": [
              "<Figure size 432x288 with 2 Axes>"
            ]
          },
          "metadata": {
            "tags": [],
            "needs_background": "light"
          }
        }
      ]
    },
    {
      "cell_type": "code",
      "metadata": {
        "id": "PcpfhkVUuCm_"
      },
      "source": [
        "dataf = dataf.drop(dataf.columns[[4,5,6,7,8,9,10]] ,axis = 1 )\n",
        "x = dataf.drop(columns=\"Expected\", axis=1)"
      ],
      "execution_count": null,
      "outputs": []
    },
    {
      "cell_type": "code",
      "metadata": {
        "id": "e7xXOYjBd9Mh",
        "outputId": "6cc36476-44ef-4cf0-af1a-f7a13c9479ae",
        "colab": {
          "base_uri": "https://localhost:8080/",
          "height": 362
        }
      },
      "source": [
        "\n",
        "#wiped data \n",
        "x\n",
        "sns.heatmap(x.corr())\n"
      ],
      "execution_count": null,
      "outputs": [
        {
          "output_type": "execute_result",
          "data": {
            "text/plain": [
              "<matplotlib.axes._subplots.AxesSubplot at 0x7f7f8346ca58>"
            ]
          },
          "metadata": {
            "tags": []
          },
          "execution_count": 9
        },
        {
          "output_type": "display_data",
          "data": {
            "image/png": "[encoded data removed]",
            "text/plain": [
              "<Figure size 432x288 with 2 Axes>"
            ]
          },
          "metadata": {
            "tags": [],
            "needs_background": "light"
          }
        }
      ]
    },
    {
      "cell_type": "code",
      "metadata": {
        "id": "IDz1BZ7n69DX",
        "outputId": "e4d55b15-208f-4cf4-8e30-20002f6b0f0f",
        "colab": {
          "base_uri": "https://localhost:8080/",
          "height": 350
        }
      },
      "source": [
        "#\n",
        "numerical = [c for c in x.columns if x[c].dtype.name != 'object']\n",
        "plt.figure(figsize=(20,5))\n",
        "sns.boxplot(data=x[numerical])\n"
      ],
      "execution_count": null,
      "outputs": [
        {
          "output_type": "execute_result",
          "data": {
            "text/plain": [
              "<matplotlib.axes._subplots.AxesSubplot at 0x7f7f83469c50>"
            ]
          },
          "metadata": {
            "tags": []
          },
          "execution_count": 10
        },
        {
          "output_type": "display_data",
          "data": {
            "image/png": "[encoded data removed]",
            "text/plain": [
              "<Figure size 1440x360 with 1 Axes>"
            ]
          },
          "metadata": {
            "tags": [],
            "needs_background": "light"
          }
        }
      ]
    },
    {
      "cell_type": "code",
      "metadata": {
        "id": "gURYY1PU69Rf"
      },
      "source": [
        "'''\n",
        "mean = x.mean(axis=0)\n",
        "std = x.std(axis=0)\n",
        "x -= mean\n",
        "x /= std\n",
        "x\n",
        "\n",
        "\n",
        "from sklearn import preprocessing\n",
        "scaler = preprocessing.MinMaxScaler()\n",
        "x[numerical] = scaler.fit_transform(x[numerical].values.astype(float))\n",
        "sns.boxplot(data=x[numerical])\n",
        "'''\n"
      ],
      "execution_count": null,
      "outputs": []
    },
    {
      "cell_type": "code",
      "metadata": {
        "id": "NZC414D87AnD"
      },
      "source": [
        "###########TEST DATA LOAD\n",
        "##we don't have Y_test data in test.csv, let's use train in 70/30 "
      ],
      "execution_count": null,
      "outputs": []
    },
    {
      "cell_type": "code",
      "metadata": {
        "id": "3qifh1Fl7D8a"
      },
      "source": [
        "y = dataf[\"Expected\"]\n"
      ],
      "execution_count": null,
      "outputs": []
    },
    {
      "cell_type": "code",
      "metadata": {
        "id": "_i3vjpmIvdIw",
        "outputId": "8adf9a42-599f-42d2-e36b-6982a50e9141",
        "colab": {
          "base_uri": "https://localhost:8080/",
          "height": 136
        }
      },
      "source": [
        "!git clone https://github.com/keras-team/keras-tuner.git"
      ],
      "execution_count": 8,
      "outputs": [
        {
          "output_type": "stream",
          "text": [
            "Cloning into 'keras-tuner'...\n",
            "remote: Enumerating objects: 46, done.\u001b[K\n",
            "remote: Counting objects: 100% (46/46), done.\u001b[K\n",
            "remote: Compressing objects: 100% (31/31), done.\u001b[K\n",
            "remote: Total 6642 (delta 27), reused 26 (delta 15), pack-reused 6596\u001b[K\n",
            "Receiving objects: 100% (6642/6642), 2.06 MiB | 1.96 MiB/s, done.\n",
            "Resolving deltas: 100% (4650/4650), done.\n"
          ],
          "name": "stdout"
        }
      ]
    },
    {
      "cell_type": "code",
      "metadata": {
        "id": "I1-hlytpvot6",
        "outputId": "ff61580a-9d90-4a68-f29d-693827379050",
        "colab": {
          "base_uri": "https://localhost:8080/",
          "height": 544
        }
      },
      "source": [
        "%cd keras-tuner/\n",
        "!pip install ."
      ],
      "execution_count": 9,
      "outputs": [
        {
          "output_type": "stream",
          "text": [
            "/content/keras-tuner\n",
            "Processing /content/keras-tuner\n",
            "Requirement already satisfied: packaging in /usr/local/lib/python3.6/dist-packages (from keras-tuner==1.0.2rc1.dev0) (20.4)\n",
            "Requirement already satisfied: future in /usr/local/lib/python3.6/dist-packages (from keras-tuner==1.0.2rc1.dev0) (0.16.0)\n",
            "Requirement already satisfied: numpy<1.19.0 in /usr/local/lib/python3.6/dist-packages (from keras-tuner==1.0.2rc1.dev0) (1.18.5)\n",
            "Requirement already satisfied: tabulate in /usr/local/lib/python3.6/dist-packages (from keras-tuner==1.0.2rc1.dev0) (0.8.7)\n",
            "Collecting terminaltables\n",
            "  Downloading https://files.pythonhosted.org/packages/9b/c4/4a21174f32f8a7e1104798c445dacdc1d4df86f2f26722767034e4de4bff/terminaltables-3.1.0.tar.gz\n",
            "Collecting colorama\n",
            "  Downloading https://files.pythonhosted.org/packages/44/98/5b86278fbbf250d239ae0ecb724f8572af1c91f4a11edf4d36a206189440/colorama-0.4.4-py2.py3-none-any.whl\n",
            "Requirement already satisfied: tqdm in /usr/local/lib/python3.6/dist-packages (from keras-tuner==1.0.2rc1.dev0) (4.41.1)\n",
            "Requirement already satisfied: requests in /usr/local/lib/python3.6/dist-packages (from keras-tuner==1.0.2rc1.dev0) (2.23.0)\n",
            "Requirement already satisfied: scipy in /usr/local/lib/python3.6/dist-packages (from keras-tuner==1.0.2rc1.dev0) (1.4.1)\n",
            "Requirement already satisfied: scikit-learn in /usr/local/lib/python3.6/dist-packages (from keras-tuner==1.0.2rc1.dev0) (0.22.2.post1)\n",
            "Requirement already satisfied: six in /usr/local/lib/python3.6/dist-packages (from packaging->keras-tuner==1.0.2rc1.dev0) (1.15.0)\n",
            "Requirement already satisfied: pyparsing>=2.0.2 in /usr/local/lib/python3.6/dist-packages (from packaging->keras-tuner==1.0.2rc1.dev0) (2.4.7)\n",
            "Requirement already satisfied: certifi>=2017.4.17 in /usr/local/lib/python3.6/dist-packages (from requests->keras-tuner==1.0.2rc1.dev0) (2020.6.20)\n",
            "Requirement already satisfied: idna<3,>=2.5 in /usr/local/lib/python3.6/dist-packages (from requests->keras-tuner==1.0.2rc1.dev0) (2.10)\n",
            "Requirement already satisfied: urllib3!=1.25.0,!=1.25.1,<1.26,>=1.21.1 in /usr/local/lib/python3.6/dist-packages (from requests->keras-tuner==1.0.2rc1.dev0) (1.24.3)\n",
            "Requirement already satisfied: chardet<4,>=3.0.2 in /usr/local/lib/python3.6/dist-packages (from requests->keras-tuner==1.0.2rc1.dev0) (3.0.4)\n",
            "Requirement already satisfied: joblib>=0.11 in /usr/local/lib/python3.6/dist-packages (from scikit-learn->keras-tuner==1.0.2rc1.dev0) (0.16.0)\n",
            "Building wheels for collected packages: keras-tuner, terminaltables\n",
            "  Building wheel for keras-tuner (setup.py) ... \u001b[?25l\u001b[?25hdone\n",
            "  Created wheel for keras-tuner: filename=keras_tuner-1.0.2rc1.dev0-cp36-none-any.whl size=91706 sha256=5c0d1e9956ce6409bc2b58979e9bc43146574c64b8309742084cd84e4a7e1c7a\n",
            "  Stored in directory: /root/.cache/pip/wheels/fa/4e/d0/ed331a3363786e8a74848aa0589674f502cbb3f0321cdba844\n",
            "  Building wheel for terminaltables (setup.py) ... \u001b[?25l\u001b[?25hdone\n",
            "  Created wheel for terminaltables: filename=terminaltables-3.1.0-cp36-none-any.whl size=15356 sha256=3b4c682830559e3abe266dea01f1e46b0f85c6dc8d86dd01fac33e11c30e980d\n",
            "  Stored in directory: /root/.cache/pip/wheels/30/6b/50/6c75775b681fb36cdfac7f19799888ef9d8813aff9e379663e\n",
            "Successfully built keras-tuner terminaltables\n",
            "Installing collected packages: terminaltables, colorama, keras-tuner\n",
            "Successfully installed colorama-0.4.4 keras-tuner-1.0.2rc1.dev0 terminaltables-3.1.0\n"
          ],
          "name": "stdout"
        }
      ]
    },
    {
      "cell_type": "code",
      "metadata": {
        "id": "3S5kNvxrYI20"
      },
      "source": [
        "from tensorflow.python.keras.models import Sequential\n",
        "from tensorflow.python.keras.layers import Dense\n",
        "from kerastuner import RandomSearch, Hyperband, BayesianOptimization\n",
        "from tensorflow import keras\n",
        "import tensorflow as tf"
      ],
      "execution_count": 10,
      "outputs": []
    },
    {
      "cell_type": "code",
      "metadata": {
        "id": "Diqbm0KsYJrx"
      },
      "source": [
        "#########################KERAS$TUNER#################################################"
      ],
      "execution_count": null,
      "outputs": []
    },
    {
      "cell_type": "code",
      "metadata": {
        "id": "1Trr0of2qDQ8"
      },
      "source": [
        "def build_model(hp):\n",
        "    model = keras.Sequential()\n",
        "    activation_choice = hp.Choice('activation',values=['relu','tanh','selu'])\n",
        "    hp_learning_rate = hp.Choice('learning_rate', values = [0.001]) \n",
        "    #hp_units = hp.Int('units', min_value = int(240), max_value = 600), step = x.shape[1])\n",
        "    \n",
        "\n",
        "    model.add(Dense(units=hp.Int('units_input',    \n",
        "                                   min_value=700,    \n",
        "                                   max_value=900,   \n",
        "                                   step=x.shape[1]),\n",
        "                    #input_dim=784,\n",
        "                    activation='tanh'))\n",
        "    for i in range(hp.Int('num_layers',4,6)):\n",
        "      model.add(keras.layers.Dense(units=hp.Int('units_'+str(i),        \n",
        "                                    min_value=x.shape[1]*5,   \n",
        "                                    max_value=600,   \n",
        "                                    step=x.shape[1]*2),\n",
        "                      activation='tanh'))   \n",
        "    \n",
        "    model.add(Dense(1))\n",
        "    model.compile(\n",
        "        optimizer = hp.Choice('optimizer', values=['adam'\n",
        "                                                   #'rmsprop',\n",
        "                                                   #'adadelta'\n",
        "                                                   ]),\n",
        "        loss='mae',\n",
        "        metrics='mae'\n",
        "        )\n",
        "    tf.keras.backend.set_floatx('float64')\n",
        "    return model\n",
        "\n"
      ],
      "execution_count": null,
      "outputs": []
    },
    {
      "cell_type": "code",
      "metadata": {
        "id": "cFYzvivpqDdF"
      },
      "source": [
        "from kerastuner.engine.hyperparameters import HyperParameters\n",
        "\n",
        "tuner = BayesianOptimization(\n",
        "                     build_model,\n",
        "                     objective = 'mae', \n",
        "                     max_trials=30,\n",
        "                     directory=\"my_dir\",\n",
        "                     overwrite=True\n",
        "                     )   "
      ],
      "execution_count": null,
      "outputs": []
    },
    {
      "cell_type": "code",
      "metadata": {
        "id": "YpZOR_Yi5wqE"
      },
      "source": [
        "class ClearTrainingOutput(tf.keras.callbacks.Callback):\n",
        "  def on_train_end(*args, **kwargs):\n",
        "    IPython.display.clear_output(wait = True)"
      ],
      "execution_count": null,
      "outputs": []
    },
    {
      "cell_type": "code",
      "metadata": {
        "id": "XOaq8Wta61rW",
        "outputId": "77a106d2-5a87-4844-d41d-252f58565e6f",
        "colab": {
          "base_uri": "https://localhost:8080/",
          "height": 357
        }
      },
      "source": [
        "tuner.search_space_summary()"
      ],
      "execution_count": null,
      "outputs": [
        {
          "output_type": "stream",
          "text": [
            "Search space summary\n",
            "Default search space size: 9\n",
            "activation (Choice)\n",
            "{'default': 'relu', 'conditions': [], 'values': ['relu', 'tanh', 'selu'], 'ordered': False}\n",
            "learning_rate (Choice)\n",
            "{'default': 0.001, 'conditions': [], 'values': [0.001], 'ordered': True}\n",
            "units_input (Int)\n",
            "{'default': None, 'conditions': [], 'min_value': 700, 'max_value': 900, 'step': 15, 'sampling': None}\n",
            "num_layers (Int)\n",
            "{'default': None, 'conditions': [], 'min_value': 4, 'max_value': 6, 'step': 1, 'sampling': None}\n",
            "units_0 (Int)\n",
            "{'default': None, 'conditions': [], 'min_value': 75, 'max_value': 600, 'step': 30, 'sampling': None}\n",
            "units_1 (Int)\n",
            "{'default': None, 'conditions': [], 'min_value': 75, 'max_value': 600, 'step': 30, 'sampling': None}\n",
            "units_2 (Int)\n",
            "{'default': None, 'conditions': [], 'min_value': 75, 'max_value': 600, 'step': 30, 'sampling': None}\n",
            "units_3 (Int)\n",
            "{'default': None, 'conditions': [], 'min_value': 75, 'max_value': 600, 'step': 30, 'sampling': None}\n",
            "optimizer (Choice)\n",
            "{'default': 'adam', 'conditions': [], 'values': ['adam'], 'ordered': False}\n"
          ],
          "name": "stdout"
        }
      ]
    },
    {
      "cell_type": "code",
      "metadata": {
        "id": "sBexNprmVMMd",
        "outputId": "edda62a5-cc1e-4dbf-e332-e44def69b945",
        "colab": {
          "base_uri": "https://localhost:8080/",
          "height": 34
        }
      },
      "source": [
        "dataf.shape"
      ],
      "execution_count": null,
      "outputs": [
        {
          "output_type": "execute_result",
          "data": {
            "text/plain": [
              "(7407244, 24)"
            ]
          },
          "metadata": {
            "tags": []
          },
          "execution_count": 9
        }
      ]
    },
    {
      "cell_type": "code",
      "metadata": {
        "id": "RuAC1q51e2S-"
      },
      "source": [
        "x = dataf.drop(columns=\"Expected\", axis=1)\n",
        "y = dataf[\"Expected\"]\n",
        "################################################\n",
        "################################################\n",
        "################################################\n",
        "################################################\n",
        "from sklearn.model_selection import train_test_split\n",
        "x_train, x_test, y_train, y_test = train_test_split(x, y, test_size=0.3, random_state = 2)\n",
        "################################################\n",
        "################################################\n",
        "################################################\n",
        "del dataf"
      ],
      "execution_count": null,
      "outputs": []
    },
    {
      "cell_type": "code",
      "metadata": {
        "id": "5nFbzX5jWvbQ"
      },
      "source": [
        ""
      ],
      "execution_count": null,
      "outputs": []
    },
    {
      "cell_type": "code",
      "metadata": {
        "id": "0USdiDaS5w22",
        "outputId": "c81fbee8-f1df-4a9d-cb61-df836375c0a1",
        "colab": {
          "base_uri": "https://localhost:8080/",
          "height": 136
        }
      },
      "source": [
        "tuner.search(x_train, y_train, epochs = 10,batch_size=18372, validation_split=0.3)#, callbacks = [ClearTrainingOutput()])\n",
        "\n",
        "# Get the optimal hyperparameters\n",
        "best_hps = tuner.get_best_hyperparameters(num_trials = 1)[0]\n",
        "\n"
      ],
      "execution_count": null,
      "outputs": [
        {
          "output_type": "stream",
          "text": [
            "Trial 30 Complete [00h 00m 46s]\n",
            "mae: 11.359444682273741\n",
            "\n",
            "Best mae So Far: 11.352741170574706\n",
            "Total elapsed time: 00h 16m 27s\n",
            "INFO:tensorflow:Oracle triggered exit\n"
          ],
          "name": "stdout"
        },
        {
          "output_type": "stream",
          "text": [
            "INFO:tensorflow:Oracle triggered exit\n"
          ],
          "name": "stderr"
        }
      ]
    },
    {
      "cell_type": "code",
      "metadata": {
        "id": "nz9hN0HK6Qzy",
        "outputId": "882478f3-4cd6-4b0a-dab1-4ebd4b93952a",
        "colab": {
          "base_uri": "https://localhost:8080/",
          "height": 1000
        }
      },
      "source": [
        "tuner.results_summary()"
      ],
      "execution_count": null,
      "outputs": [
        {
          "output_type": "stream",
          "text": [
            "Results summary\n",
            "Results in my_dir/untitled_project\n",
            "Showing 10 best trials\n",
            "Objective(name='mae', direction='min')\n",
            "Trial summary\n",
            "Hyperparameters:\n",
            "activation: relu\n",
            "learning_rate: 0.001\n",
            "units_input: 850\n",
            "num_layers: 6\n",
            "units_0: 555\n",
            "units_1: 585\n",
            "units_2: 585\n",
            "units_3: 75\n",
            "optimizer: adam\n",
            "units_4: 345\n",
            "units_5: 195\n",
            "Score: 11.352741170574706\n",
            "Trial summary\n",
            "Hyperparameters:\n",
            "activation: tanh\n",
            "learning_rate: 0.001\n",
            "units_input: 715\n",
            "num_layers: 5\n",
            "units_0: 525\n",
            "units_1: 195\n",
            "units_2: 525\n",
            "units_3: 135\n",
            "optimizer: adam\n",
            "units_4: 135\n",
            "units_5: 165\n",
            "Score: 11.354270625476364\n",
            "Trial summary\n",
            "Hyperparameters:\n",
            "activation: relu\n",
            "learning_rate: 0.001\n",
            "units_input: 715\n",
            "num_layers: 6\n",
            "units_0: 495\n",
            "units_1: 435\n",
            "units_2: 495\n",
            "units_3: 75\n",
            "optimizer: adam\n",
            "units_4: 495\n",
            "units_5: 165\n",
            "Score: 11.354521148261275\n",
            "Trial summary\n",
            "Hyperparameters:\n",
            "activation: tanh\n",
            "learning_rate: 0.001\n",
            "units_input: 745\n",
            "num_layers: 6\n",
            "units_0: 525\n",
            "units_1: 195\n",
            "units_2: 105\n",
            "units_3: 585\n",
            "optimizer: adam\n",
            "units_4: 75\n",
            "units_5: 75\n",
            "Score: 11.355021511411422\n",
            "Trial summary\n",
            "Hyperparameters:\n",
            "activation: selu\n",
            "learning_rate: 0.001\n",
            "units_input: 715\n",
            "num_layers: 4\n",
            "units_0: 495\n",
            "units_1: 495\n",
            "units_2: 225\n",
            "units_3: 375\n",
            "optimizer: adam\n",
            "units_4: 405\n",
            "units_5: 75\n",
            "Score: 11.355029574731518\n",
            "Trial summary\n",
            "Hyperparameters:\n",
            "activation: selu\n",
            "learning_rate: 0.001\n",
            "units_input: 880\n",
            "num_layers: 5\n",
            "units_0: 465\n",
            "units_1: 105\n",
            "units_2: 75\n",
            "units_3: 375\n",
            "optimizer: adam\n",
            "units_4: 165\n",
            "units_5: 435\n",
            "Score: 11.355540763848248\n",
            "Trial summary\n",
            "Hyperparameters:\n",
            "activation: relu\n",
            "learning_rate: 0.001\n",
            "units_input: 865\n",
            "num_layers: 5\n",
            "units_0: 585\n",
            "units_1: 105\n",
            "units_2: 75\n",
            "units_3: 165\n",
            "optimizer: adam\n",
            "units_4: 555\n",
            "units_5: 135\n",
            "Score: 11.355797127003818\n",
            "Trial summary\n",
            "Hyperparameters:\n",
            "activation: tanh\n",
            "learning_rate: 0.001\n",
            "units_input: 865\n",
            "num_layers: 6\n",
            "units_0: 555\n",
            "units_1: 555\n",
            "units_2: 555\n",
            "units_3: 585\n",
            "optimizer: adam\n",
            "units_4: 525\n",
            "units_5: 195\n",
            "Score: 11.356157333359294\n",
            "Trial summary\n",
            "Hyperparameters:\n",
            "activation: relu\n",
            "learning_rate: 0.001\n",
            "units_input: 700\n",
            "num_layers: 4\n",
            "units_0: 435\n",
            "units_1: 435\n",
            "units_2: 315\n",
            "units_3: 255\n",
            "optimizer: adam\n",
            "Score: 11.356373232190606\n",
            "Trial summary\n",
            "Hyperparameters:\n",
            "activation: selu\n",
            "learning_rate: 0.001\n",
            "units_input: 790\n",
            "num_layers: 4\n",
            "units_0: 135\n",
            "units_1: 555\n",
            "units_2: 135\n",
            "units_3: 135\n",
            "optimizer: adam\n",
            "units_4: 165\n",
            "units_5: 495\n",
            "Score: 11.356382004227656\n"
          ],
          "name": "stdout"
        }
      ]
    },
    {
      "cell_type": "code",
      "metadata": {
        "id": "5dzqRaxO6RAc",
        "outputId": "a4064c99-a395-4bb8-d2b8-386134e9e1e0",
        "colab": {
          "base_uri": "https://localhost:8080/",
          "height": 51
        }
      },
      "source": [
        "model.evaluate(x_test, y_test)\n",
        "print()"
      ],
      "execution_count": null,
      "outputs": [
        {
          "output_type": "stream",
          "text": [
            "25961/25961 [==============================] - 36s 1ms/step - loss: 11.3527 - mae: 11.3527\n",
            "\n"
          ],
          "name": "stdout"
        }
      ]
    },
    {
      "cell_type": "code",
      "metadata": {
        "id": "_iQG1mozWInG",
        "outputId": "2513d4e3-6b0e-4498-85f5-84406130d0b0",
        "colab": {
          "base_uri": "https://localhost:8080/",
          "height": 35
        }
      },
      "source": [
        "x_train.shape[1]"
      ],
      "execution_count": null,
      "outputs": [
        {
          "output_type": "execute_result",
          "data": {
            "text/plain": [
              "15"
            ]
          },
          "metadata": {
            "tags": []
          },
          "execution_count": 14
        }
      ]
    },
    {
      "cell_type": "code",
      "metadata": {
        "id": "O1UBk74XXyHL",
        "outputId": "434e4f00-ec96-4040-e43c-c257685a5a1c",
        "colab": {
          "base_uri": "https://localhost:8080/",
          "height": 126
        }
      },
      "source": [
        "pip install --upgrade keras"
      ],
      "execution_count": null,
      "outputs": [
        {
          "output_type": "stream",
          "text": [
            "Requirement already up-to-date: keras in /usr/local/lib/python3.6/dist-packages (2.4.3)\n",
            "Requirement already satisfied, skipping upgrade: numpy>=1.9.1 in /usr/local/lib/python3.6/dist-packages (from keras) (1.18.5)\n",
            "Requirement already satisfied, skipping upgrade: scipy>=0.14 in /usr/local/lib/python3.6/dist-packages (from keras) (1.4.1)\n",
            "Requirement already satisfied, skipping upgrade: h5py in /usr/local/lib/python3.6/dist-packages (from keras) (2.10.0)\n",
            "Requirement already satisfied, skipping upgrade: pyyaml in /usr/local/lib/python3.6/dist-packages (from keras) (3.13)\n",
            "Requirement already satisfied, skipping upgrade: six in /usr/local/lib/python3.6/dist-packages (from h5py->keras) (1.15.0)\n"
          ],
          "name": "stdout"
        }
      ]
    },
    {
      "cell_type": "code",
      "metadata": {
        "id": "Vw2Glyqf6sSh",
        "outputId": "e25c397c-9cd5-4fe2-a50d-e5dba8ec599b",
        "colab": {
          "base_uri": "https://localhost:8080/",
          "height": 52
        }
      },
      "source": [
        "def graphs(history):\n",
        "  loss = history[\"loss\"]\n",
        "  val_loss = history[\"val_loss\"]\n",
        "  epochs = range(1, len(history['loss']) + 1)\n",
        "  plt.plot(epochs, loss, 'r', label='Training loss')\n",
        "  plt.plot(epochs, val_loss, 'b', label='Validation loss')\n",
        "  plt.title('Training and validation loss')\n",
        "  plt.xlabel('Epochs')\n",
        "  plt.ylabel('Loss')\n",
        "  plt.legend()\n",
        "  plt.show()\n",
        "\n",
        "  plt.clf()\n",
        "'''\n",
        "  mae = history['mae']\n",
        "  val_mae = history['val_mae']\n",
        "  plt.plot(epochs, mae, 'r', label='Training mae')\n",
        "  plt.plot(epochs, val_mae, 'b', label='Validation mae')\n",
        "  plt.title('Training and validation mae')\n",
        "  plt.xlabel('Epochs')\n",
        "  plt.ylabel('mae')\n",
        "  plt.legend()\n",
        "  plt.show()\n",
        "'''\n",
        "\n"
      ],
      "execution_count": null,
      "outputs": [
        {
          "output_type": "execute_result",
          "data": {
            "application/vnd.google.colaboratory.intrinsic+json": {
              "type": "string"
            },
            "text/plain": [
              "\"\\n  mae = history['mae']\\n  val_mae = history['val_mae']\\n  plt.plot(epochs, mae, 'r', label='Training mae')\\n  plt.plot(epochs, val_mae, 'b', label='Validation mae')\\n  plt.title('Training and validation mae')\\n  plt.xlabel('Epochs')\\n  plt.ylabel('mae')\\n  plt.legend()\\n  plt.show()\\n\""
            ]
          },
          "metadata": {
            "tags": []
          },
          "execution_count": 11
        }
      ]
    },
    {
      "cell_type": "code",
      "metadata": {
        "id": "VY9tayQBHh1M"
      },
      "source": [
        "model = Sequential()\n",
        "################################################\n",
        "model.add(Dense(850, activation='relu', input_shape=(x_train.shape[1],)))\n",
        "model.add(Dense(555, activation='relu'))\n",
        "model.add(Dense(500, activation='relu'))\n",
        "model.add(Dense(400, activation='relu'))\n",
        "model.add(Dense(355, activation='relu'))\n",
        "model.add(Dense(195, activation='relu'))\n",
        "################################################\n",
        "model.add(Dense(1))\n",
        "\n"
      ],
      "execution_count": null,
      "outputs": []
    },
    {
      "cell_type": "code",
      "metadata": {
        "id": "RFLXjpSHKqV8",
        "outputId": "217fd8b2-44af-40ef-e83f-01efa6b8b188",
        "colab": {
          "base_uri": "https://localhost:8080/",
          "height": 408
        }
      },
      "source": [
        "print(model.summary())"
      ],
      "execution_count": null,
      "outputs": [
        {
          "output_type": "stream",
          "text": [
            "Model: \"sequential\"\n",
            "_________________________________________________________________\n",
            "Layer (type)                 Output Shape              Param #   \n",
            "=================================================================\n",
            "dense (Dense)                (None, 850)               20400     \n",
            "_________________________________________________________________\n",
            "dense_1 (Dense)              (None, 555)               472305    \n",
            "_________________________________________________________________\n",
            "dense_2 (Dense)              (None, 500)               278000    \n",
            "_________________________________________________________________\n",
            "dense_3 (Dense)              (None, 400)               200400    \n",
            "_________________________________________________________________\n",
            "dense_4 (Dense)              (None, 355)               142355    \n",
            "_________________________________________________________________\n",
            "dense_5 (Dense)              (None, 195)               69420     \n",
            "_________________________________________________________________\n",
            "dense_6 (Dense)              (None, 1)                 196       \n",
            "=================================================================\n",
            "Total params: 1,183,076\n",
            "Trainable params: 1,183,076\n",
            "Non-trainable params: 0\n",
            "_________________________________________________________________\n",
            "None\n"
          ],
          "name": "stdout"
        }
      ]
    },
    {
      "cell_type": "code",
      "metadata": {
        "id": "JlT06EiTXhL6"
      },
      "source": [
        "model.compile(optimizer='adam', loss='mae')"
      ],
      "execution_count": null,
      "outputs": []
    },
    {
      "cell_type": "code",
      "metadata": {
        "id": "n81BCu787BUr",
        "outputId": "4624beca-1ef0-4f99-b6bc-c551a578933e",
        "colab": {
          "base_uri": "https://localhost:8080/",
          "height": 459
        }
      },
      "source": [
        "\n",
        "history = model.fit(x_train, y_train, epochs=13, batch_size=65536, verbose=1, validation_split=0.2)\n",
        "history = history.history\n",
        "#model.fit(x_train, y_train, epochs=8, batch_size=65536, verbose=1, validation_split=0.2)"
      ],
      "execution_count": null,
      "outputs": [
        {
          "output_type": "stream",
          "text": [
            "Epoch 1/13\n",
            "77/77 [==============================] - 13s 167ms/step - loss: 3312.5649 - val_loss: 207.2980\n",
            "Epoch 2/13\n",
            "77/77 [==============================] - 12s 162ms/step - loss: 202.0692 - val_loss: 151.5182\n",
            "Epoch 3/13\n",
            "77/77 [==============================] - 13s 163ms/step - loss: 81.5041 - val_loss: 45.4136\n",
            "Epoch 4/13\n",
            "77/77 [==============================] - 13s 166ms/step - loss: 40.0513 - val_loss: 18.0050\n",
            "Epoch 5/13\n",
            "77/77 [==============================] - 13s 168ms/step - loss: 63.1808 - val_loss: 4.2110\n",
            "Epoch 6/13\n",
            "77/77 [==============================] - 13s 171ms/step - loss: 21.7722 - val_loss: 2.8488\n",
            "Epoch 7/13\n",
            "77/77 [==============================] - 13s 172ms/step - loss: 8.3980 - val_loss: 2.7762\n",
            "Epoch 8/13\n",
            "77/77 [==============================] - 13s 173ms/step - loss: 3.1708 - val_loss: 2.7760\n",
            "Epoch 9/13\n",
            "77/77 [==============================] - 13s 169ms/step - loss: 3.0441 - val_loss: 2.7759\n",
            "Epoch 10/13\n",
            "77/77 [==============================] - 13s 168ms/step - loss: 4.9679 - val_loss: 2.7759\n",
            "Epoch 11/13\n",
            "77/77 [==============================] - 13s 169ms/step - loss: 2.7737 - val_loss: 2.7756\n",
            "Epoch 12/13\n",
            "77/77 [==============================] - 13s 169ms/step - loss: 2.7884 - val_loss: 2.7757\n",
            "Epoch 13/13\n",
            "77/77 [==============================] - 13s 171ms/step - loss: 4.4706 - val_loss: 2.7767\n"
          ],
          "name": "stdout"
        }
      ]
    },
    {
      "cell_type": "code",
      "metadata": {
        "id": "PRGrPP3YNeXN",
        "outputId": "fa958246-c77d-47d0-f6a9-78ebc3a676ad",
        "colab": {
          "base_uri": "https://localhost:8080/",
          "height": 312
        }
      },
      "source": [
        "\n",
        "# draw all plots\n",
        "graphs(history)\n"
      ],
      "execution_count": null,
      "outputs": [
        {
          "output_type": "display_data",
          "data": {
            "image/png": "[encoded data removed]",
            "text/plain": [
              "<Figure size 432x288 with 1 Axes>"
            ]
          },
          "metadata": {
            "tags": [],
            "needs_background": "light"
          }
        },
        {
          "output_type": "display_data",
          "data": {
            "text/plain": [
              "<Figure size 432x288 with 0 Axes>"
            ]
          },
          "metadata": {
            "tags": []
          }
        }
      ]
    },
    {
      "cell_type": "code",
      "metadata": {
        "id": "bhgEXUM8-Vxl",
        "outputId": "3d34a035-207f-42db-a946-12f395b91697",
        "colab": {
          "base_uri": "https://localhost:8080/",
          "height": 136
        }
      },
      "source": [
        "pred = model.predict(x_test)\n",
        "print(pred)"
      ],
      "execution_count": 13,
      "outputs": [
        {
          "output_type": "stream",
          "text": [
            "[[2.8607037 ]\n",
            " [0.54059017]\n",
            " [1.0290047 ]\n",
            " ...\n",
            " [0.73435724]\n",
            " [0.6509515 ]\n",
            " [0.5755899 ]]\n"
          ],
          "name": "stdout"
        }
      ]
    },
    {
      "cell_type": "code",
      "metadata": {
        "id": "FYVl82zBi8Sp"
      },
      "source": [
        "class Graph:\n",
        "  def __init__(self, s, r):\n",
        "    self.x = range(s+1, r+1);\n",
        "    self.r = r\n",
        "    self.s = s\n",
        "  def draw(self, data, data2):\n",
        "    plt.figure(figsize=(20,5))\n",
        "    plt.plot(self.x, data[self.s:self.r:1],  'b', label='Expected')\n",
        "    plt.plot(self.x, data2[self.s:self.r:1],  'r', label='Predict')\n",
        "    plt.legend()\n",
        "    plt.show()\n",
        "    plt.clf()\n",
        "  def draw1(self, data):\n",
        "    plt.figure(figsize=(20,5))\n",
        "    plt.plot(self.x, data[:self.r],  'b', label='Expected')\n",
        "    plt.legend()\n",
        "    plt.show()\n",
        "    plt.clf()\n"
      ],
      "execution_count": null,
      "outputs": []
    },
    {
      "cell_type": "code",
      "metadata": {
        "id": "8Lea7MO9jnvx",
        "outputId": "e44af33b-e77f-4b8e-f351-bb0ac2094b1a",
        "colab": {
          "base_uri": "https://localhost:8080/",
          "height": 337
        }
      },
      "source": [
        "graph = Graph(1,50)\n",
        "graph.draw(y_test, pred)\n"
      ],
      "execution_count": null,
      "outputs": [
        {
          "output_type": "display_data",
          "data": {
            "image/png": "[encoded data removed]",
            "text/plain": [
              "<Figure size 1440x360 with 1 Axes>"
            ]
          },
          "metadata": {
            "tags": [],
            "needs_background": "light"
          }
        },
        {
          "output_type": "display_data",
          "data": {
            "text/plain": [
              "<Figure size 432x288 with 0 Axes>"
            ]
          },
          "metadata": {
            "tags": []
          }
        }
      ]
    },
    {
      "cell_type": "code",
      "metadata": {
        "id": "g7SyuEi3_X4K"
      },
      "source": [
        ""
      ],
      "execution_count": 67,
      "outputs": []
    },
    {
      "cell_type": "code",
      "metadata": {
        "id": "etRN3gAumvuC",
        "outputId": "f3dbb135-06c8-448c-def0-ceb7f54c4290",
        "colab": {
          "base_uri": "https://localhost:8080/",
          "height": 51
        }
      },
      "source": [
        "#CORR\n",
        "pred = pred.flatten()\n",
        "#y = y_test.to_numpy().flatten()\n",
        "np.corrcoef(pred, y_test)"
      ],
      "execution_count": 70,
      "outputs": [
        {
          "output_type": "execute_result",
          "data": {
            "text/plain": [
              "array([[1.        , 0.70014369],\n",
              "       [0.70014369, 1.        ]])"
            ]
          },
          "metadata": {
            "tags": []
          },
          "execution_count": 70
        }
      ]
    }
  ]
}